{
 "cells": [
  {
   "cell_type": "code",
   "execution_count": 1,
   "id": "7a68dfd1",
   "metadata": {},
   "outputs": [],
   "source": [
    "import torch\n",
    "import torch.nn as nn"
   ]
  },
  {
   "cell_type": "code",
   "execution_count": 2,
   "id": "30311492",
   "metadata": {},
   "outputs": [],
   "source": [
    "import torch.nn.functional as F"
   ]
  },
  {
   "cell_type": "code",
   "execution_count": 3,
   "id": "6bf2465d",
   "metadata": {},
   "outputs": [
    {
     "data": {
      "text/plain": [
       "Parameter containing:\n",
       "tensor([[-0.4927, -0.5973,  1.8773, -0.9633, -0.1891,  0.1123,  0.3090,  0.6309,\n",
       "         -0.7894,  0.1406],\n",
       "        [-0.1817,  0.2909,  1.8958,  0.8379, -0.5672,  0.4836, -0.4872,  0.1005,\n",
       "          0.7984,  1.7816],\n",
       "        [ 1.8144,  0.2435, -0.3698, -1.7247, -0.7348,  0.2968, -0.4216,  0.7271,\n",
       "         -0.6310, -1.0304],\n",
       "        [-1.1811,  1.0778, -1.4410, -0.4813,  0.0548,  1.2852,  1.0935, -0.0704,\n",
       "         -0.0294, -0.2369],\n",
       "        [-0.8156,  1.6494, -1.2014,  1.5256,  0.7500,  1.0755, -1.0635,  2.1690,\n",
       "          1.7652,  2.8072]], requires_grad=True)"
      ]
     },
     "execution_count": 3,
     "metadata": {},
     "output_type": "execute_result"
    }
   ],
   "source": [
    "text=\"Sandeep muhal Bank money deposit\"\n",
    "\n",
    "def embedding(text,dim):\n",
    "    vocab = set(text.split(\" \"))\n",
    "    vocab_size = len(vocab)\n",
    "    wordtovec = nn.Embedding(vocab_size,dim)\n",
    "    return wordtovec\n",
    "\n",
    "Wordsembedding=embedding(text,10)\n",
    "\n",
    "Wordsembedding.weight"
   ]
  },
  {
   "cell_type": "code",
   "execution_count": null,
   "id": "80663a2b",
   "metadata": {},
   "outputs": [],
   "source": [
    "import random"
   ]
  },
  {
   "cell_type": "code",
   "execution_count": 17,
   "id": "ce7f34da",
   "metadata": {},
   "outputs": [
    {
     "data": {
      "text/plain": [
       "5"
      ]
     },
     "execution_count": 17,
     "metadata": {},
     "output_type": "execute_result"
    }
   ],
   "source": [
    "len(Wordsembedding.weight)"
   ]
  },
  {
   "cell_type": "code",
   "execution_count": null,
   "id": "721357b5",
   "metadata": {},
   "outputs": [],
   "source": [
    "def input_embedding():\n",
    "    query_vector = torch.randn(1,len(Wordsembedding.weight))\n",
    "    key_vector = torch.randn(1,10)\n",
    "    value_vector = torch.randn(1,10)\n"
   ]
  },
  {
   "cell_type": "code",
   "execution_count": null,
   "id": "aa1365e3",
   "metadata": {},
   "outputs": [],
   "source": [
    "def self_attention(query, key, value):\n",
    "    d_k=query.size(-1)\n",
    "    scores=torch.matmul(query,key.transpose(-2,-1))/torch.sqrt(torch.tensor(d_k,dtype=torch.float32))\n",
    "    attn_weights=F.softmax(scores,dim=-1)\n",
    "    output=torch.matmul(attn_weights,value)\n",
    "    return output, attn_weights\n",
    "\n",
    "\n",
    "# self_attention(query_vector, key_vector, value_vector)"
   ]
  }
 ],
 "metadata": {
  "kernelspec": {
   "display_name": ".machine (3.10.11)",
   "language": "python",
   "name": "python3"
  },
  "language_info": {
   "codemirror_mode": {
    "name": "ipython",
    "version": 3
   },
   "file_extension": ".py",
   "mimetype": "text/x-python",
   "name": "python",
   "nbconvert_exporter": "python",
   "pygments_lexer": "ipython3",
   "version": "3.10.11"
  }
 },
 "nbformat": 4,
 "nbformat_minor": 5
}
