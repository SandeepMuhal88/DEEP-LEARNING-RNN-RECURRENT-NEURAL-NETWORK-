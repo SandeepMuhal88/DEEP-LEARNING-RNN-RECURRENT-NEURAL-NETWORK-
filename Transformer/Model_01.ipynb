{
 "cells": [
  {
   "cell_type": "markdown",
   "id": "d63587f7",
   "metadata": {},
   "source": [
    "That is Transformer Part"
   ]
  },
  {
   "cell_type": "markdown",
   "id": "f8a7881e",
   "metadata": {},
   "source": [
    "Self-Attention"
   ]
  },
  {
   "cell_type": "code",
   "execution_count": 1,
   "id": "47f09828",
   "metadata": {},
   "outputs": [],
   "source": [
    "import pandas as pd\n",
    "import numpy as np \n",
    "import os \n",
    "import tensorflow as tf\n",
    "from tensorflow.keras.models import Sequential"
   ]
  },
  {
   "cell_type": "code",
   "execution_count": 2,
   "id": "0c35a048",
   "metadata": {},
   "outputs": [],
   "source": [
    "# make metrix calculation\n",
    "# money ,bank ,grows\n",
    "# That word convert in word embedding\n",
    "\n",
    "# v1=money\n",
    "# v2=bank\n",
    "#v3 =grows\n",
    "X=np.array([[1, 0, 0],\n",
    "            [0, 1, 0],\n",
    "            [0, 0, 1]\n",
    "])"
   ]
  },
  {
   "cell_type": "code",
   "execution_count": 3,
   "id": "8d3dd216",
   "metadata": {},
   "outputs": [],
   "source": [
    "#initialize random weights\n",
    "np.random.seed(0)\n",
    "Wq = np.random.rand(3, 3)\n",
    "Wk = np.random.rand(3, 3)\n",
    "Wv = np.random.rand(3, 3)"
   ]
  },
  {
   "cell_type": "code",
   "execution_count": 4,
   "id": "bce1524b",
   "metadata": {},
   "outputs": [],
   "source": [
    "# Step 3: Create Q, K, V\n",
    "Q = X @ Wq\n",
    "K = X @ Wk\n",
    "V = X @ Wv"
   ]
  },
  {
   "cell_type": "code",
   "execution_count": 5,
   "id": "eb302162",
   "metadata": {},
   "outputs": [
    {
     "data": {
      "text/plain": [
       "array([[0.5488135 , 0.71518937, 0.60276338],\n",
       "       [0.54488318, 0.4236548 , 0.64589411],\n",
       "       [0.43758721, 0.891773  , 0.96366276]])"
      ]
     },
     "execution_count": 5,
     "metadata": {},
     "output_type": "execute_result"
    }
   ],
   "source": [
    "Q"
   ]
  },
  {
   "cell_type": "code",
   "execution_count": 6,
   "id": "3b457de6",
   "metadata": {},
   "outputs": [
    {
     "data": {
      "text/plain": [
       "array([[0.38344152, 0.79172504, 0.52889492],\n",
       "       [0.56804456, 0.92559664, 0.07103606],\n",
       "       [0.0871293 , 0.0202184 , 0.83261985]])"
      ]
     },
     "execution_count": 6,
     "metadata": {},
     "output_type": "execute_result"
    }
   ],
   "source": [
    "K"
   ]
  },
  {
   "cell_type": "code",
   "execution_count": 7,
   "id": "7ae0c6c7",
   "metadata": {},
   "outputs": [
    {
     "data": {
      "text/plain": [
       "array([[0.77815675, 0.87001215, 0.97861834],\n",
       "       [0.79915856, 0.46147936, 0.78052918],\n",
       "       [0.11827443, 0.63992102, 0.14335329]])"
      ]
     },
     "execution_count": 7,
     "metadata": {},
     "output_type": "execute_result"
    }
   ],
   "source": [
    "V"
   ]
  },
  {
   "cell_type": "code",
   "execution_count": 8,
   "id": "bce955ca",
   "metadata": {},
   "outputs": [],
   "source": [
    "# Step 4: Compute attention scores (dot product)\n",
    "scores = Q @ K.T"
   ]
  },
  {
   "cell_type": "code",
   "execution_count": 9,
   "id": "7a7a4791",
   "metadata": {},
   "outputs": [],
   "source": [
    "# Step 5: Softmax function\n",
    "def softmax(x):\n",
    "    exps = np.exp(x - np.max(x, axis=1, keepdims=True))  # stability\n",
    "    return exps / np.sum(exps, axis=1, keepdims=True)"
   ]
  },
  {
   "cell_type": "code",
   "execution_count": 10,
   "id": "45da37f6",
   "metadata": {},
   "outputs": [],
   "source": [
    "softmax_scores = softmax(scores)"
   ]
  },
  {
   "cell_type": "code",
   "execution_count": 11,
   "id": "3925e355",
   "metadata": {},
   "outputs": [],
   "source": [
    "# Step 6: Multiply softmax with V\n",
    "output = softmax_scores @ V"
   ]
  },
  {
   "cell_type": "code",
   "execution_count": 12,
   "id": "eb6d8e8d",
   "metadata": {},
   "outputs": [
    {
     "name": "stdout",
     "output_type": "stream",
     "text": [
      "Output:\n",
      " [[0.63146131 0.66587366 0.71028014]\n",
      " [0.5968978  0.66846734 0.67444282]\n",
      " [0.62089815 0.67772447 0.70530202]]\n"
     ]
    }
   ],
   "source": [
    "# Final output (like ymoney, ybank, ygrows)\n",
    "print(\"Output:\\n\", output)"
   ]
  },
  {
   "cell_type": "markdown",
   "id": "b23e114c",
   "metadata": {},
   "source": [
    "#Start with SelfAttention"
   ]
  },
  {
   "cell_type": "code",
   "execution_count": 19,
   "id": "cf1d5dda",
   "metadata": {},
   "outputs": [
    {
     "data": {
      "text/plain": [
       "array([[0.6, 0.4, 0. ],\n",
       "       [0.6, 0.3, 1. ],\n",
       "       [1. , 0.3, 0.1]])"
      ]
     },
     "execution_count": 19,
     "metadata": {},
     "output_type": "execute_result"
    }
   ],
   "source": [
    "# \"Bank River Man\"\n",
    "Bank = np.array([0.6, 0.4, 0])\n",
    "River = ([0.6, 0.3, 1])\n",
    "Man = ([1, 0.3, 0.1])\n",
    "\n",
    "bank = np.array(Bank).reshape(1, 3)\n",
    "river = np.array(River).reshape(1, 3)\n",
    "man = np.array(Man).reshape(1, 3)\n",
    "\n",
    "\n",
    "X_new= np.array([Bank,River,Man])\n",
    "X_new\n",
    "\n"
   ]
  },
  {
   "cell_type": "code",
   "execution_count": null,
   "id": "c2eb73b4",
   "metadata": {},
   "outputs": [],
   "source": []
  }
 ],
 "metadata": {
  "kernelspec": {
   "display_name": ".machine (3.10.11)",
   "language": "python",
   "name": "python3"
  },
  "language_info": {
   "codemirror_mode": {
    "name": "ipython",
    "version": 3
   },
   "file_extension": ".py",
   "mimetype": "text/x-python",
   "name": "python",
   "nbconvert_exporter": "python",
   "pygments_lexer": "ipython3",
   "version": "3.10.11"
  }
 },
 "nbformat": 4,
 "nbformat_minor": 5
}
