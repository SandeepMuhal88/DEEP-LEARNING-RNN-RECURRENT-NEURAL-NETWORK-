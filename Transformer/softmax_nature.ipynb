{
 "cells": [
  {
   "cell_type": "code",
   "execution_count": 1,
   "id": "53ca8452",
   "metadata": {},
   "outputs": [],
   "source": [
    "import numpy as np\n",
    "import matplotlib.pyplot as plt\n",
    "import random"
   ]
  },
  {
   "cell_type": "code",
   "execution_count": 3,
   "id": "31cb23f0",
   "metadata": {},
   "outputs": [
    {
     "data": {
      "text/plain": [
       "['65.90%', '24.24%', '9.86%']"
      ]
     },
     "execution_count": 3,
     "metadata": {},
     "output_type": "execute_result"
    }
   ],
   "source": [
    "def softmax(x):\n",
    "    e_x = np.exp(x - np.max(x))\n",
    "    softmax_values = e_x / e_x.sum(axis=0)\n",
    "    percentages = softmax_values * 100\n",
    "    formatted_percentages = [f\"{p:.2f}%\" for p in percentages]\n",
    "    return formatted_percentages\n",
    "\n",
    "\n",
    "softmax(np.array([2.0, 1.0, 0.1]))  # Example usage"
   ]
  },
  {
   "cell_type": "code",
   "execution_count": 5,
   "id": "45247db8",
   "metadata": {},
   "outputs": [
    {
     "data": {
      "text/plain": [
       "['0.03%', '99.97%']"
      ]
     },
     "execution_count": 5,
     "metadata": {},
     "output_type": "execute_result"
    }
   ],
   "source": [
    "softmax(np.array([1,9]))"
   ]
  }
 ],
 "metadata": {
  "kernelspec": {
   "display_name": ".machine (3.10.11)",
   "language": "python",
   "name": "python3"
  },
  "language_info": {
   "codemirror_mode": {
    "name": "ipython",
    "version": 3
   },
   "file_extension": ".py",
   "mimetype": "text/x-python",
   "name": "python",
   "nbconvert_exporter": "python",
   "pygments_lexer": "ipython3",
   "version": "3.10.11"
  }
 },
 "nbformat": 4,
 "nbformat_minor": 5
}
