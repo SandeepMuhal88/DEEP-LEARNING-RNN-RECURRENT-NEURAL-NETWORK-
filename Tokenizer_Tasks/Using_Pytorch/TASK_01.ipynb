{
 "cells": [
  {
   "cell_type": "code",
   "execution_count": 2,
   "id": "414b3208",
   "metadata": {},
   "outputs": [],
   "source": [
    "import torch\n",
    "import torch.nn as nn\n",
    "import torch.nn.functional as F"
   ]
  },
  {
   "cell_type": "markdown",
   "id": "cebbe4ed",
   "metadata": {},
   "source": [
    "From First Principle "
   ]
  },
  {
   "cell_type": "code",
   "execution_count": 25,
   "id": "cad9f669",
   "metadata": {},
   "outputs": [
    {
     "ename": "AttributeError",
     "evalue": "'dict' object has no attribute 'key'",
     "output_type": "error",
     "traceback": [
      "\u001b[1;31m---------------------------------------------------------------------------\u001b[0m",
      "\u001b[1;31mAttributeError\u001b[0m                            Traceback (most recent call last)",
      "Cell \u001b[1;32mIn[25], line 2\u001b[0m\n\u001b[0;32m      1\u001b[0m dic\u001b[38;5;241m=\u001b[39m{}\n\u001b[1;32m----> 2\u001b[0m \u001b[43mdic\u001b[49m\u001b[38;5;241;43m.\u001b[39;49m\u001b[43mkey\u001b[49m[\u001b[38;5;124m'\u001b[39m\u001b[38;5;124mhello\u001b[39m\u001b[38;5;124m'\u001b[39m]\u001b[38;5;241m=\u001b[39m\u001b[38;5;241m0\u001b[39m\n\u001b[0;32m      3\u001b[0m dic\u001b[38;5;241m.\u001b[39mkey[\u001b[38;5;124m'\u001b[39m\u001b[38;5;124mworld\u001b[39m\u001b[38;5;124m'\u001b[39m]\u001b[38;5;241m=\u001b[39m\u001b[38;5;241m1\u001b[39m\n\u001b[0;32m      5\u001b[0m \u001b[38;5;66;03m# text=\"Sample text for testing.\"\u001b[39;00m\n\u001b[0;32m      6\u001b[0m \u001b[38;5;66;03m# token=text.lower().replace('.',' .').split()\u001b[39;00m\n\u001b[0;32m      7\u001b[0m \u001b[38;5;66;03m# print(token)\u001b[39;00m\n\u001b[1;32m   (...)\u001b[0m\n\u001b[0;32m     10\u001b[0m \u001b[38;5;66;03m#         dic[i]=len(dic)\u001b[39;00m\n\u001b[0;32m     11\u001b[0m \u001b[38;5;66;03m# print(dic)\u001b[39;00m\n",
      "\u001b[1;31mAttributeError\u001b[0m: 'dict' object has no attribute 'key'"
     ]
    }
   ],
   "source": [
    "dic={}\n",
    "dic.key['hello']=0\n",
    "dic.key['world']=1\n",
    "\n",
    "# text=\"Sample text for testing.\"\n",
    "# token=text.lower().replace('.',' .').split()\n",
    "# print(token)\n",
    "# for i in token:\n",
    "#     if i not in dic:\n",
    "#         dic[i]=len(dic)\n",
    "# print(dic)"
   ]
  },
  {
   "cell_type": "code",
   "execution_count": null,
   "id": "662a22e8",
   "metadata": {},
   "outputs": [
    {
     "name": "stdout",
     "output_type": "stream",
     "text": [
      "['sample', 'text', 'for', 'testing', '.']\n"
     ]
    }
   ],
   "source": [
    "text=\"Sample text for testing.\"\n",
    "# text=text.replace('.',' .')\n",
    "token=text.lower().replace('.',' .').split()\n",
    "print(token)"
   ]
  },
  {
   "cell_type": "code",
   "execution_count": 15,
   "id": "c05028c1",
   "metadata": {},
   "outputs": [
    {
     "name": "stdout",
     "output_type": "stream",
     "text": [
      "sandeep\n",
      "is\n",
      "learning\n",
      "transformers\n",
      ".\n",
      "transformers\n",
      "are\n",
      "powerful\n",
      "sandeep\n",
      "loves\n",
      "machine\n",
      "learning\n"
     ]
    }
   ],
   "source": [
    "corpus = [\n",
    "    \"Sandeep is learning Transformers.\",\n",
    "    \"Transformers are powerful\",\n",
    "    \"Sandeep loves machine learning\"\n",
    "]\n",
    "\n",
    "vacab ={}\n",
    "for sentence in corpus:\n",
    "    for word in sentence.lower().replace('.',' .').split():\n",
    "        print(word)\n",
    "        # if word not in vacab:\n",
    "            # vacab[word]=len(vacab)"
   ]
  }
 ],
 "metadata": {
  "kernelspec": {
   "display_name": ".machine (3.10.11)",
   "language": "python",
   "name": "python3"
  },
  "language_info": {
   "codemirror_mode": {
    "name": "ipython",
    "version": 3
   },
   "file_extension": ".py",
   "mimetype": "text/x-python",
   "name": "python",
   "nbconvert_exporter": "python",
   "pygments_lexer": "ipython3",
   "version": "3.10.11"
  }
 },
 "nbformat": 4,
 "nbformat_minor": 5
}
