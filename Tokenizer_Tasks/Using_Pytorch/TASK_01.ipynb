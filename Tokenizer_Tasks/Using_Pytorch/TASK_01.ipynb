{
 "cells": [
  {
   "cell_type": "code",
   "execution_count": 3,
   "id": "414b3208",
   "metadata": {},
   "outputs": [],
   "source": [
    "import torch\n",
    "import torch.nn as nn\n",
    "import torch.nn.functional as F"
   ]
  },
  {
   "cell_type": "markdown",
   "id": "cebbe4ed",
   "metadata": {},
   "source": [
    "From First Principle "
   ]
  },
  {
   "cell_type": "code",
   "execution_count": 4,
   "id": "cad9f669",
   "metadata": {},
   "outputs": [],
   "source": [
    "dic={}\n",
    "# dic.key['hello']=0\n",
    "# dic.key['world']=1\n",
    "\n",
    "# text=\"Sample text for testing.\"\n",
    "# token=text.lower().replace('.',' .').split()\n",
    "# print(token)\n",
    "# for i in token:\n",
    "#     if i not in dic:\n",
    "#         dic[i]=len(dic)\n",
    "# print(dic)"
   ]
  },
  {
   "cell_type": "code",
   "execution_count": 5,
   "id": "662a22e8",
   "metadata": {},
   "outputs": [
    {
     "name": "stdout",
     "output_type": "stream",
     "text": [
      "['sample', 'text', 'for', 'testing', '.']\n"
     ]
    }
   ],
   "source": [
    "text=\"Sample text for testing.\"\n",
    "# text=text.replace('.',' .')\n",
    "token=text.lower().replace('.',' .').split()\n",
    "print(token)"
   ]
  },
  {
   "cell_type": "code",
   "execution_count": 13,
   "id": "c05028c1",
   "metadata": {},
   "outputs": [
    {
     "name": "stdout",
     "output_type": "stream",
     "text": [
      "{'sandeep': 1, 'is': 2, 'learning': 3, 'transformers': 4, '.': 5, 'are': 6, 'powerful': 7, 'loves': 8, 'machine': 9}\n"
     ]
    }
   ],
   "source": [
    "corpus = [\n",
    "    \"Sandeep is learning Transformers.\",\n",
    "    \"Transformers are powerful\",\n",
    "    \"Sandeep loves machine learning\"\n",
    "]\n",
    "\n",
    "vacab ={}\n",
    "for sentence in corpus:\n",
    "    for word in sentence.lower().replace('.',' .').split():\n",
    "        # print(word)\n",
    "        if word not in vacab:\n",
    "            vacab[word]=len(vacab)+1\n",
    "\n",
    "print(vacab)\n",
    "        "
   ]
  },
  {
   "cell_type": "code",
   "execution_count": null,
   "id": "6dc0b004",
   "metadata": {},
   "outputs": [
    {
     "name": "stdout",
     "output_type": "stream",
     "text": [
      "{'sandeep': 1, 'is': 2, 'learning': 3, 'transformers': 4, '.': 5, 'are': 6, 'powerful': 7, 'loves': 8, 'machine': 9}\n",
      "[1, 2, 3, 4]\n"
     ]
    }
   ],
   "source": [
    "# # Get Token IDs\n",
    "\n",
    "# def encode(text,vacab):\n",
    "#     l=[]\n",
    "#     vacab['<unk>']=0\n",
    "#     vacab.get(token,vacab['<unk>'])\n",
    "#     for i in text.lower().replace('.',' .').split():\n",
    "#         l.append(vacab[i])\n",
    "#     return l\n",
    "\n",
    "# encode(text,vacab)\n",
    "\n",
    "\n",
    "corpus = [\n",
    "    \"Sandeep is learning Transformers.\",\n",
    "    \"Transformers are powerful\",\n",
    "    \"Sandeep loves machine learning\"\n",
    "]\n",
    "\n",
    "vacab ={}\n",
    "for sentence in corpus:\n",
    "    for word in sentence.lower().replace('.',' .').split():\n",
    "        # print(word)\n",
    "        if word not in vacab:\n",
    "            vacab[word]=len(vacab)+1\n",
    "\n",
    "print(vacab)\n",
    "def encode(text, vacab):\n",
    "    return [vacab.get(token) for token in text.lower().split()]\n",
    "\n",
    "encoded = encode(\"Sandeep is learning Transformers\", vacab)\n",
    "print(encoded) \n"
   ]
  },
  {
   "cell_type": "code",
   "execution_count": 19,
   "id": "28fcb7b1",
   "metadata": {},
   "outputs": [
    {
     "name": "stdout",
     "output_type": "stream",
     "text": [
      "sandeep is learning transformers\n"
     ]
    }
   ],
   "source": [
    "# Reverse vacab for decoding\n",
    "inv_vocab = {v: k for k, v in vacab.items()}\n",
    "\n",
    "def decode(ids, inv_vocab):\n",
    "    return \" \".join([inv_vocab.get(i, \"<UNK>\") for i in ids])\n",
    "\n",
    "decoded = decode(encoded, inv_vocab)\n",
    "print(decoded)\n"
   ]
  },
  {
   "cell_type": "code",
   "execution_count": 21,
   "id": "8de1de73",
   "metadata": {},
   "outputs": [
    {
     "name": "stdout",
     "output_type": "stream",
     "text": [
      "tensor([1, 2, 3, 4])\n",
      "torch.Size([4])\n"
     ]
    }
   ],
   "source": [
    "import torch\n",
    "\n",
    "tensor_input = torch.tensor(encoded)\n",
    "print(tensor_input)\n",
    "print(tensor_input.shape)"
   ]
  },
  {
   "cell_type": "code",
   "execution_count": 26,
   "id": "4b5522ff",
   "metadata": {},
   "outputs": [
    {
     "name": "stdout",
     "output_type": "stream",
     "text": [
      "tensor([[1, 2, 3],\n",
      "        [4, 6, 7]])\n"
     ]
    }
   ],
   "source": [
    "from torch.nn.utils.rnn import pad_sequence\n",
    "\n",
    "batch = [\n",
    "    torch.tensor(encode(\"Sandeep is learning\", vacab)),\n",
    "    torch.tensor(encode(\"Transformers are powerful\", vacab))\n",
    "]\n",
    "\n",
    "padded = pad_sequence(batch, batch_first=True,padding_value=0)\n",
    "print(padded)\n"
   ]
  },
  {
   "cell_type": "code",
   "execution_count": 28,
   "id": "361b532f",
   "metadata": {},
   "outputs": [
    {
     "name": "stdout",
     "output_type": "stream",
     "text": [
      "torch.Size([2, 3, 8])\n"
     ]
    }
   ],
   "source": [
    "embedding = torch.nn.Embedding(len(vacab), 8)  # 8 = embedding dimension\n",
    "output = embedding(padded)\n",
    "print(output.shape)\n"
   ]
  },
  {
   "cell_type": "code",
   "execution_count": 30,
   "id": "37a89e05",
   "metadata": {},
   "outputs": [
    {
     "name": "stdout",
     "output_type": "stream",
     "text": [
      "torch.Size([2, 3, 8])\n"
     ]
    }
   ],
   "source": [
    "embedding = torch.nn.Embedding(len(vacab), 8)  # 8 = embedding dimension\n",
    "output = embedding(padded)\n",
    "print(output.shape)\n"
   ]
  },
  {
   "cell_type": "code",
   "execution_count": 31,
   "id": "e5f17294",
   "metadata": {},
   "outputs": [
    {
     "data": {
      "text/plain": [
       "torch.Size([2, 4, 8])"
      ]
     },
     "execution_count": 31,
     "metadata": {},
     "output_type": "execute_result"
    }
   ],
   "source": [
    "torch.Size([2, 4, 8])  # (batch, sequence_length, embedding_dim)\n"
   ]
  }
 ],
 "metadata": {
  "kernelspec": {
   "display_name": ".machine (3.10.11)",
   "language": "python",
   "name": "python3"
  },
  "language_info": {
   "codemirror_mode": {
    "name": "ipython",
    "version": 3
   },
   "file_extension": ".py",
   "mimetype": "text/x-python",
   "name": "python",
   "nbconvert_exporter": "python",
   "pygments_lexer": "ipython3",
   "version": "3.10.11"
  }
 },
 "nbformat": 4,
 "nbformat_minor": 5
}
