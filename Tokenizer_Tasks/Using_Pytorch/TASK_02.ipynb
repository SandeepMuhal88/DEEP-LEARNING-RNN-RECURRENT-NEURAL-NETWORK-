{
 "cells": [
  {
   "cell_type": "code",
   "execution_count": 1,
   "id": "867e9055",
   "metadata": {},
   "outputs": [],
   "source": [
    "import numpy as np\n",
    "import pandas as pd \n",
    "import torch\n",
    "\n"
   ]
  },
  {
   "cell_type": "code",
   "execution_count": 23,
   "id": "755edd17",
   "metadata": {},
   "outputs": [
    {
     "name": "stdout",
     "output_type": "stream",
     "text": [
      "['sandeep', 'muhal', 'have', 'a', 'bike', '.']\n",
      "{'<pad>': 0, '<unk>': 1, 'sandeep': 3, 'muhal': 4, 'have': 5, 'a': 6, 'bike': 7, '.': 8}\n"
     ]
    },
    {
     "data": {
      "text/plain": [
       "[0, 1, 3, 4, 5, 6, 7, 8]"
      ]
     },
     "execution_count": 23,
     "metadata": {},
     "output_type": "execute_result"
    }
   ],
   "source": [
    "text=\"sandeep Muhal have a bike.\"\n",
    "\n",
    "def clean_text(text):\n",
    "    token=text.lower().replace('.',' .').split()\n",
    "    return token\n",
    "\n",
    "tokens=clean_text(text)\n",
    "print(tokens)\n",
    "# Assign a tokens list\n",
    "\n",
    "vocab=dict()\n",
    "vocab['<pad>']=0\n",
    "vocab['<unk>']=1\n",
    "\n",
    "\n",
    "for i in tokens:\n",
    "    if i not in vocab:\n",
    "        vocab[i]=len(vocab)+1\n",
    "    else:\n",
    "        continue\n",
    "print(vocab)\n",
    "\n",
    "# vocab.get('have',vocab['<unk>'])\n",
    "l1=[]\n",
    "for key ,value in vocab.items():\n",
    "    # print(f\"{key}:{value}\")\n",
    "    l1.append((value))\n",
    "\n",
    "l1\n",
    "# Create a vocabulary dictionary\n",
    "\n",
    "\n"
   ]
  },
  {
   "cell_type": "code",
   "execution_count": 25,
   "id": "f49643a1",
   "metadata": {},
   "outputs": [],
   "source": [
    "docs= [\n",
    "    'Creating an immersive world for a story is like building a house from the ground up, brick by brick.',\n",
    "    'Every detail, from the scent of the air to the texture of the cobblestones underfoot, contributes to its foundation.',\n",
    "    'The goal is to make the setting feel so real that the reader can step inside, becoming a part of the landscape.',\n",
    "    'A well-crafted world isnt just a backdrop its a character in its own right, with a history, a culture, and secrets waiting to be unearthed.',\n",
    "    'When a story world is thoughtfully constructed, it enriches the plot and allows the characters to feel more authentic.',\n",
    "    'Its this deep level of engagement that keeps readers turning pages long into the night.'\n",
    "]"
   ]
  },
  {
   "cell_type": "code",
   "execution_count": 28,
   "id": "1de68d3e",
   "metadata": {},
   "outputs": [
    {
     "name": "stdout",
     "output_type": "stream",
     "text": [
      "{'<pad>': 0, '<unk>': 1, 'creating': 4, 'an': 5, 'immersive': 6, 'world': 7, 'for': 8, 'a': 9, 'story': 10, 'is': 11, 'like': 12, 'building': 13, 'house': 14, 'from': 15, 'the': 16, 'ground': 17, 'up,': 18, 'brick': 19, 'by': 20, '.': 21, 'every': 22, 'detail,': 23, 'scent': 24, 'of': 25, 'air': 26, 'to': 27, 'texture': 28, 'cobblestones': 29, 'underfoot,': 30, 'contributes': 31, 'its': 32, 'foundation': 33, 'goal': 34, 'make': 35, 'setting': 36, 'feel': 37, 'so': 38, 'real': 39, 'that': 40, 'reader': 41, 'can': 42, 'step': 43, 'inside,': 44, 'becoming': 45, 'part': 46, 'landscape': 47, 'well-crafted': 48, 'isnt': 49, 'just': 50, 'backdrop': 51, 'character': 52, 'in': 53, 'own': 54, 'right,': 55, 'with': 56, 'history,': 57, 'culture,': 58, 'and': 59, 'secrets': 60, 'waiting': 61, 'be': 62, 'unearthed': 63, 'when': 64, 'thoughtfully': 65, 'constructed,': 66, 'it': 67, 'enriches': 68, 'plot': 69, 'allows': 70, 'characters': 71, 'more': 72, 'authentic': 73, 'this': 74, 'deep': 75, 'level': 76, 'engagement': 77, 'keeps': 78, 'readers': 79, 'turning': 80, 'pages': 81, 'long': 82, 'into': 83, 'night': 84, '<eos>': 85}\n"
     ]
    }
   ],
   "source": [
    "def build_vocab(docs):\n",
    "    vocab=dict()\n",
    "    vocab['<pad>']=0\n",
    "    vocab['<unk>']=1\n",
    "    for sentence in docs:\n",
    "        for token in sentence.lower().replace('.',' .').split():\n",
    "            if token not in vocab:\n",
    "                vocab[token]=len(vocab)+2\n",
    "            else:\n",
    "                continue\n",
    "    vocab['<eos>']=len(vocab)+2\n",
    "    return vocab\n",
    "\n",
    "vocab=build_vocab(docs)\n",
    "print(vocab)"
   ]
  },
  {
   "cell_type": "code",
   "execution_count": 35,
   "id": "2a84dc37",
   "metadata": {},
   "outputs": [
    {
     "name": "stdout",
     "output_type": "stream",
     "text": [
      "[4, 5, 6, 7, 8, 9, 10, 11, 12, 13, 9, 14, 15, 16, 17, 18, 19, 20, 19, 21, 85]\n",
      "[[4, 5, 6, 7, 8, 9, 10, 11, 12, 13, 9, 14, 15, 16, 17, 18, 19, 20, 19, 21, 85], [22, 23, 15, 16, 24, 25, 16, 26, 27, 16, 28, 25, 16, 29, 30, 31, 27, 32, 33, 21, 85], [16, 34, 11, 27, 35, 16, 36, 37, 38, 39, 40, 16, 41, 42, 43, 44, 45, 9, 46, 25, 16, 47, 21, 85], [9, 48, 7, 49, 50, 9, 51, 32, 9, 52, 53, 32, 54, 55, 56, 9, 57, 9, 58, 59, 60, 61, 27, 62, 63, 21, 85], [64, 9, 10, 7, 11, 65, 66, 67, 68, 16, 69, 59, 70, 16, 71, 27, 37, 72, 73, 21, 85], [32, 74, 75, 76, 25, 77, 40, 78, 79, 80, 81, 82, 83, 16, 84, 21, 85]]\n"
     ]
    }
   ],
   "source": [
    "def token_ids(sentencs,vocab):\n",
    "    token_ids_list=[]\n",
    "    for i in sentencs:\n",
    "        token_ids=[]\n",
    "        for token in i.lower().replace('.',' .').split():\n",
    "            token_ids.append(vocab.get(token,vocab['<unk>']))\n",
    "        token_ids.append(vocab['<eos>'])\n",
    "        token_ids_list.append(token_ids)    \n",
    "    return token_ids_list\n",
    "token_ids_list=token_ids(docs,vocab)\n",
    "print(token_ids_list[0])\n",
    "print(token_ids_list)\n",
    "def pad_sequence(token_ids_list,pad_token=0):\n",
    "    max_len=max([len(i) for i in token_ids_list])\n",
    "    padded_token_ids=[]\n",
    "    for token_ids in token_ids_list:\n",
    "        padded_token_ids.append(token_ids + [pad_token]*(max_len - len(token_ids)))\n",
    "    return padded_token_ids"
   ]
  }
 ],
 "metadata": {
  "kernelspec": {
   "display_name": ".machine (3.10.11)",
   "language": "python",
   "name": "python3"
  },
  "language_info": {
   "codemirror_mode": {
    "name": "ipython",
    "version": 3
   },
   "file_extension": ".py",
   "mimetype": "text/x-python",
   "name": "python",
   "nbconvert_exporter": "python",
   "pygments_lexer": "ipython3",
   "version": "3.10.11"
  }
 },
 "nbformat": 4,
 "nbformat_minor": 5
}
