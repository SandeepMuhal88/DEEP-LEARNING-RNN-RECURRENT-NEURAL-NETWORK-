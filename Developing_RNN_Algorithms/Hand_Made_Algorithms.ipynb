{
 "cells": [
  {
   "cell_type": "markdown",
   "id": "6f88106a",
   "metadata": {},
   "source": [
    "#That is Algorithms is developed by me"
   ]
  },
  {
   "cell_type": "code",
   "execution_count": 1,
   "id": "83cbee1b",
   "metadata": {},
   "outputs": [
    {
     "name": "stdout",
     "output_type": "stream",
     "text": [
      "Epoch 0, Loss: 0.494868\n",
      "Epoch 20, Loss: 0.004062\n",
      "Epoch 40, Loss: 0.003583\n",
      "Epoch 60, Loss: 0.004132\n",
      "Epoch 80, Loss: 0.004096\n",
      "Epoch 100, Loss: 0.002780\n",
      "Epoch 120, Loss: 0.002325\n",
      "Epoch 140, Loss: 0.002157\n",
      "Epoch 160, Loss: 0.002033\n",
      "Epoch 180, Loss: 0.001927\n"
     ]
    }
   ],
   "source": [
    "import numpy as np\n",
    "\n",
    "# Data: simple sequence\n",
    "data = np.linspace(0, 2*np.pi, 100)\n",
    "sin_wave = np.sin(data)\n",
    "\n",
    "# Hyperparameters\n",
    "input_size = 1\n",
    "hidden_size = 10\n",
    "output_size = 1\n",
    "lr = 0.01\n",
    "epochs = 200\n",
    "\n",
    "# Weights\n",
    "Wxh = np.random.randn(hidden_size, input_size) * 0.01\n",
    "Whh = np.random.randn(hidden_size, hidden_size) * 0.01\n",
    "Why = np.random.randn(output_size, hidden_size) * 0.01\n",
    "bh = np.zeros((hidden_size, 1))\n",
    "by = np.zeros((output_size, 1))\n",
    "\n",
    "# Training\n",
    "for epoch in range(epochs):\n",
    "    h_prev = np.zeros((hidden_size, 1))\n",
    "    loss = 0\n",
    "    # Store values for BPTT\n",
    "    xs, hs, ys, targets = {}, {}, {}, {}\n",
    "\n",
    "    for t in range(len(sin_wave)-1):\n",
    "        xs[t] = np.array([[sin_wave[t]]])\n",
    "        hs[t] = np.tanh(np.dot(Wxh, xs[t]) + np.dot(Whh, h_prev) + bh)\n",
    "        ys[t] = np.dot(Why, hs[t]) + by\n",
    "        targets[t] = np.array([[sin_wave[t+1]]])\n",
    "        loss += (ys[t] - targets[t])**2\n",
    "        h_prev = hs[t]\n",
    "\n",
    "    # Backpropagation Through Time\n",
    "    dWxh, dWhh, dWhy = np.zeros_like(Wxh), np.zeros_like(Whh), np.zeros_like(Why)\n",
    "    dbh, dby = np.zeros_like(bh), np.zeros_like(by)\n",
    "    dh_next = np.zeros_like(h_prev)\n",
    "\n",
    "    for t in reversed(range(len(sin_wave)-1)):\n",
    "        dy = ys[t] - targets[t]\n",
    "        dWhy += np.dot(dy, hs[t].T)\n",
    "        dby += dy\n",
    "        dh = np.dot(Why.T, dy) + dh_next\n",
    "        dh_raw = (1 - hs[t]**2) * dh\n",
    "        dbh += dh_raw\n",
    "        dWxh += np.dot(dh_raw, xs[t].T)\n",
    "        dWhh += np.dot(dh_raw, hs[t-1].T if t != 0 else np.zeros_like(h_prev).T)\n",
    "        dh_next = np.dot(Whh.T, dh_raw)\n",
    "\n",
    "    # Update weights\n",
    "    for param, dparam in zip([Wxh, Whh, Why, bh, by],\n",
    "                             [dWxh, dWhh, dWhy, dbh, dby]):\n",
    "        param -= lr * dparam\n",
    "\n",
    "    if epoch % 20 == 0:\n",
    "        print(f\"Epoch {epoch}, Loss: {loss.sum()/len(sin_wave):.6f}\")\n"
   ]
  }
 ],
 "metadata": {
  "kernelspec": {
   "display_name": ".machine",
   "language": "python",
   "name": "python3"
  },
  "language_info": {
   "codemirror_mode": {
    "name": "ipython",
    "version": 3
   },
   "file_extension": ".py",
   "mimetype": "text/x-python",
   "name": "python",
   "nbconvert_exporter": "python",
   "pygments_lexer": "ipython3",
   "version": "3.10.11"
  }
 },
 "nbformat": 4,
 "nbformat_minor": 5
}
