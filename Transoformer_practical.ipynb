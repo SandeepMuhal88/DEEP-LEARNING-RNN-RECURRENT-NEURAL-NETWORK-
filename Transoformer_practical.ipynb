{
 "cells": [
  {
   "cell_type": "code",
   "execution_count": 2,
   "id": "4bc674e8",
   "metadata": {},
   "outputs": [],
   "source": [
    "# 🚀 Transformer from Scratch - TensorFlow Implementation\n",
    "# Based on Vaswani et al.'s \"Attention is All You Need\"\n",
    "\n",
    "# 📦 Imports\n",
    "import tensorflow as tf\n",
    "import numpy as np\n",
    "import matplotlib.pyplot as plt"
   ]
  },
  {
   "cell_type": "code",
   "execution_count": 4,
   "id": "9aba91e5",
   "metadata": {},
   "outputs": [],
   "source": [
    "# ## 🔢 Positional Encoding\n",
    "def get_angles(pos, i, d_model):\n",
    "    angle_rates = 1 / np.power(10000, (2 * (i // 2)) / np.float32(d_model))\n",
    "    return pos * angle_rates\n",
    "\n",
    "\n",
    "def positional_encoding(position, d_model):\n",
    "    angle_rads = get_angles(np.arange(position)[:, np.newaxis],\n",
    "                            np.arange(d_model)[np.newaxis, :],\n",
    "                            d_model)\n",
    "    angle_rads[:, 0::2] = np.sin(angle_rads[:, 0::2])\n",
    "    angle_rads[:, 1::2] = np.cos(angle_rads[:, 1::2])\n",
    "    pos_encoding = angle_rads[np.newaxis, ...]\n",
    "    return tf.cast(pos_encoding, dtype=tf.float32)"
   ]
  },
  {
   "cell_type": "code",
   "execution_count": 5,
   "id": "bbdb4b99",
   "metadata": {},
   "outputs": [],
   "source": [
    "# Visualize Positional Encoding\n",
    "def visualize_positional_encoding():\n",
    "    pos_encoding = positional_encoding(50, 128)\n",
    "    plt.figure(figsize=(10, 6))\n",
    "    plt.pcolormesh(pos_encoding[0], cmap='viridis')\n",
    "    plt.xlabel('Depth')\n",
    "    plt.ylabel('Position')\n",
    "    plt.title('Positional Encoding')\n",
    "    plt.colorbar()\n",
    "    plt.show()"
   ]
  },
  {
   "cell_type": "code",
   "execution_count": 6,
   "id": "43fbab17",
   "metadata": {},
   "outputs": [],
   "source": [
    "# ## 🎯 Scaled Dot-Product Attention\n",
    "def scaled_dot_product_attention(q, k, v, mask=None):\n",
    "    matmul_qk = tf.matmul(q, k, transpose_b=True)\n",
    "    dk = tf.cast(tf.shape(k)[-1], tf.float32)\n",
    "    scaled_attention_logits = matmul_qk / tf.math.sqrt(dk)\n",
    "    \n",
    "    if mask is not None:\n",
    "        scaled_attention_logits += (mask * -1e9)\n",
    "    \n",
    "    attention_weights = tf.nn.softmax(scaled_attention_logits, axis=-1)\n",
    "    output = tf.matmul(attention_weights, v)\n",
    "    \n",
    "    return output, attention_weights\n"
   ]
  },
  {
   "cell_type": "code",
   "execution_count": 7,
   "id": "a54734c6",
   "metadata": {},
   "outputs": [],
   "source": [
    "\n",
    "# ## 🤹 Multi-Head Attention Layer\n",
    "class MultiHeadAttention(tf.keras.layers.Layer):\n",
    "    def __init__(self, d_model, num_heads):\n",
    "        super().__init__()\n",
    "        self.num_heads = num_heads\n",
    "        self.d_model = d_model\n",
    "        \n",
    "        assert d_model % num_heads == 0, \"d_model must be divisible by num_heads\"\n",
    "        \n",
    "        self.depth = d_model // num_heads\n",
    "        \n",
    "        self.wq = tf.keras.layers.Dense(d_model)\n",
    "        self.wk = tf.keras.layers.Dense(d_model)\n",
    "        self.wv = tf.keras.layers.Dense(d_model)\n",
    "        \n",
    "        self.dense = tf.keras.layers.Dense(d_model)\n",
    "\n",
    "    def split_heads(self, x, batch_size):\n",
    "        \"\"\"Split the last dimension into (num_heads, depth).\"\"\"\n",
    "        x = tf.reshape(x, (batch_size, -1, self.num_heads, self.depth))\n",
    "        return tf.transpose(x, perm=[0, 2, 1, 3])\n",
    "    \n",
    "    def call(self, v, k, q, mask):\n",
    "        batch_size = tf.shape(q)[0]\n",
    "        \n",
    "        q = self.wq(q)\n",
    "        k = self.wk(k)\n",
    "        v = self.wv(v)\n",
    "        \n",
    "        q = self.split_heads(q, batch_size)\n",
    "        k = self.split_heads(k, batch_size)\n",
    "        v = self.split_heads(v, batch_size)\n",
    "        \n",
    "        scaled_attention, _ = scaled_dot_product_attention(q, k, v, mask)\n",
    "        scaled_attention = tf.transpose(scaled_attention, perm=[0, 2, 1, 3])\n",
    "        \n",
    "        concat_attention = tf.reshape(scaled_attention, (batch_size, -1, self.d_model))\n",
    "        \n",
    "        return self.dense(concat_attention)\n",
    "\n",
    "# Uncomment the line below to visualize positional encoding when running this script\n",
    "# visualize_positional_encoding()\n"
   ]
  },
  {
   "cell_type": "code",
   "execution_count": 11,
   "id": "27173cbc",
   "metadata": {},
   "outputs": [
    {
     "name": "stdout",
     "output_type": "stream",
     "text": [
      "Output shape: (1, 60, 512)\n"
     ]
    }
   ],
   "source": [
    "multih = MultiHeadAttention(d_model=512, num_heads=8)\n",
    "dummy_q = tf.random.uniform((1, 60, 512))\n",
    "dummy_k = tf.random.uniform((1, 60, 512))\n",
    "dummy_v = tf.random.uniform((1, 60, 512))\n",
    "output = multih(dummy_v, dummy_k, dummy_q, None)\n",
    "print(\"Output shape:\", output.shape)  # Should be (1, 60, 512)\n",
    "# Output shape: (1, 60, 512)"
   ]
  },
  {
   "cell_type": "code",
   "execution_count": 15,
   "id": "9f39f064",
   "metadata": {},
   "outputs": [
    {
     "data": {
      "text/plain": [
       "<MultiHeadAttention name=multi_head_attention_3, built=True>"
      ]
     },
     "execution_count": 15,
     "metadata": {},
     "output_type": "execute_result"
    }
   ],
   "source": [
    "model= multih  # Assign the model to a variable for further use\n",
    "model = multih  # Assign the model to a variable for further use\n",
    "model  # Display the model summary to verify the architecture"
   ]
  }
 ],
 "metadata": {
  "kernelspec": {
   "display_name": ".machine (3.10.11)",
   "language": "python",
   "name": "python3"
  },
  "language_info": {
   "codemirror_mode": {
    "name": "ipython",
    "version": 3
   },
   "file_extension": ".py",
   "mimetype": "text/x-python",
   "name": "python",
   "nbconvert_exporter": "python",
   "pygments_lexer": "ipython3",
   "version": "3.10.11"
  }
 },
 "nbformat": 4,
 "nbformat_minor": 5
}
