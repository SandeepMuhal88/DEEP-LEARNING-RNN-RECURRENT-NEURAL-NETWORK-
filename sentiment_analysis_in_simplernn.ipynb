{
 "cells": [
  {
   "cell_type": "code",
   "execution_count": 5,
   "id": "c7de55c2",
   "metadata": {},
   "outputs": [
    {
     "ename": "ModuleNotFoundError",
     "evalue": "No module named 'tensorflow'",
     "output_type": "error",
     "traceback": [
      "\u001b[31m---------------------------------------------------------------------------\u001b[39m",
      "\u001b[31mModuleNotFoundError\u001b[39m                       Traceback (most recent call last)",
      "\u001b[36mCell\u001b[39m\u001b[36m \u001b[39m\u001b[32mIn[5]\u001b[39m\u001b[32m, line 1\u001b[39m\n\u001b[32m----> \u001b[39m\u001b[32m1\u001b[39m \u001b[38;5;28;01mimport\u001b[39;00m\u001b[38;5;250m \u001b[39m\u001b[34;01mtensorflow\u001b[39;00m\n\u001b[32m      2\u001b[39m \u001b[38;5;28;01mfrom\u001b[39;00m\u001b[38;5;250m \u001b[39m\u001b[34;01mtensorflow\u001b[39;00m\u001b[38;5;250m \u001b[39m\u001b[38;5;28;01mimport\u001b[39;00m keras\n\u001b[32m      3\u001b[39m \u001b[38;5;28;01mfrom\u001b[39;00m\u001b[38;5;250m \u001b[39m\u001b[34;01mkeras\u001b[39;00m\u001b[34;01m.\u001b[39;00m\u001b[34;01mmodels\u001b[39;00m\u001b[38;5;250m \u001b[39m\u001b[38;5;28;01mimport\u001b[39;00m Sequential\n",
      "\u001b[31mModuleNotFoundError\u001b[39m: No module named 'tensorflow'"
     ]
    }
   ],
   "source": [
    "import tensorflow\n",
    "from tensorflow import keras\n",
    "from keras.models import Sequential\n",
    "from keras.layers import Dense, SimpleRNN, Embedding, Flatten"
   ]
  },
  {
   "cell_type": "code",
   "execution_count": null,
   "id": "feeb90f9",
   "metadata": {},
   "outputs": [],
   "source": [
    "docs = ['go india',\n",
    "\t\t'india india',\n",
    "\t\t'hip hip hurray',\n",
    "\t\t'jeetega bhai jeetega india jeetega',\n",
    "\t\t'bharat mata ki jai',\n",
    "\t\t'kohli kohli',\n",
    "\t\t'sachin sachin',\n",
    "\t\t'dhoni dhoni',\n",
    "\t\t'modi ji ki jai',\n",
    "\t\t'inquilab zindabad']"
   ]
  },
  {
   "cell_type": "code",
   "execution_count": null,
   "id": "f4252d36",
   "metadata": {},
   "outputs": [],
   "source": [
    "# imo\n",
    "from tensorflow.keras.preprocessing.text import Tokenizer\n",
    "tokenizer = Tokenizer()"
   ]
  },
  {
   "cell_type": "code",
   "execution_count": null,
   "id": "1a01fe3d",
   "metadata": {},
   "outputs": [],
   "source": [
    "tokenizer.fit_on_texts(docs)"
   ]
  },
  {
   "cell_type": "code",
   "execution_count": null,
   "id": "6d1a36a1",
   "metadata": {},
   "outputs": [],
   "source": [
    "vocab_size=len(tokenizer.word_index)+1"
   ]
  },
  {
   "cell_type": "code",
   "execution_count": null,
   "id": "f397c847",
   "metadata": {},
   "outputs": [
    {
     "data": {
      "text/plain": [
       "[[9, 1],\n",
       " [1, 1],\n",
       " [3, 3, 10],\n",
       " [2, 11, 2, 1, 2],\n",
       " [12, 13, 4, 5],\n",
       " [6, 6],\n",
       " [7, 7],\n",
       " [8, 8],\n",
       " [14, 15, 4, 5],\n",
       " [16, 17]]"
      ]
     },
     "execution_count": 6,
     "metadata": {},
     "output_type": "execute_result"
    }
   ],
   "source": [
    "Sequences=tokenizer.texts_to_sequences(docs)\n",
    "Sequences"
   ]
  },
  {
   "cell_type": "code",
   "execution_count": null,
   "id": "14f76f2d",
   "metadata": {},
   "outputs": [
    {
     "data": {
      "text/plain": [
       "10"
      ]
     },
     "execution_count": 7,
     "metadata": {},
     "output_type": "execute_result"
    }
   ],
   "source": [
    "len(Sequences)"
   ]
  },
  {
   "cell_type": "code",
   "execution_count": null,
   "id": "bfc72eb0",
   "metadata": {},
   "outputs": [
    {
     "data": {
      "text/plain": [
       "array([[ 9,  1,  0,  0,  0],\n",
       "       [ 1,  1,  0,  0,  0],\n",
       "       [ 3,  3, 10,  0,  0],\n",
       "       [ 2, 11,  2,  1,  2],\n",
       "       [12, 13,  4,  5,  0],\n",
       "       [ 6,  6,  0,  0,  0],\n",
       "       [ 7,  7,  0,  0,  0],\n",
       "       [ 8,  8,  0,  0,  0],\n",
       "       [14, 15,  4,  5,  0],\n",
       "       [16, 17,  0,  0,  0]], dtype=int32)"
      ]
     },
     "execution_count": 8,
     "metadata": {},
     "output_type": "execute_result"
    }
   ],
   "source": [
    "from keras.utils import pad_sequences\n",
    "sequences=pad_sequences(Sequences,padding='post')\n",
    "sequences\n"
   ]
  },
  {
   "cell_type": "code",
   "execution_count": null,
   "id": "69767506",
   "metadata": {},
   "outputs": [
    {
     "name": "stderr",
     "output_type": "stream",
     "text": [
      "d:\\Project-to-learn\\Whatsapp-chat-Analysis-system\\.tensorli\\Lib\\site-packages\\keras\\src\\layers\\core\\embedding.py:97: UserWarning: Argument `input_length` is deprecated. Just remove it.\n",
      "  warnings.warn(\n"
     ]
    },
    {
     "data": {
      "text/html": [
       "<pre style=\"white-space:pre;overflow-x:auto;line-height:normal;font-family:Menlo,'DejaVu Sans Mono',consolas,'Courier New',monospace\"><span style=\"font-weight: bold\">Model: \"sequential\"</span>\n",
       "</pre>\n"
      ],
      "text/plain": [
       "\u001b[1mModel: \"sequential\"\u001b[0m\n"
      ]
     },
     "metadata": {},
     "output_type": "display_data"
    },
    {
     "data": {
      "text/html": [
       "<pre style=\"white-space:pre;overflow-x:auto;line-height:normal;font-family:Menlo,'DejaVu Sans Mono',consolas,'Courier New',monospace\">┏━━━━━━━━━━━━━━━━━━━━━━━━━━━━━━━━━┳━━━━━━━━━━━━━━━━━━━━━━━━┳━━━━━━━━━━━━━━━┓\n",
       "┃<span style=\"font-weight: bold\"> Layer (type)                    </span>┃<span style=\"font-weight: bold\"> Output Shape           </span>┃<span style=\"font-weight: bold\">       Param # </span>┃\n",
       "┡━━━━━━━━━━━━━━━━━━━━━━━━━━━━━━━━━╇━━━━━━━━━━━━━━━━━━━━━━━━╇━━━━━━━━━━━━━━━┩\n",
       "│ embedding (<span style=\"color: #0087ff; text-decoration-color: #0087ff\">Embedding</span>)           │ (<span style=\"color: #00d7ff; text-decoration-color: #00d7ff\">None</span>, <span style=\"color: #00d7ff; text-decoration-color: #00d7ff\">None</span>, <span style=\"color: #00af00; text-decoration-color: #00af00\">2</span>)        │            <span style=\"color: #00af00; text-decoration-color: #00af00\">36</span> │\n",
       "└─────────────────────────────────┴────────────────────────┴───────────────┘\n",
       "</pre>\n"
      ],
      "text/plain": [
       "┏━━━━━━━━━━━━━━━━━━━━━━━━━━━━━━━━━┳━━━━━━━━━━━━━━━━━━━━━━━━┳━━━━━━━━━━━━━━━┓\n",
       "┃\u001b[1m \u001b[0m\u001b[1mLayer (type)                   \u001b[0m\u001b[1m \u001b[0m┃\u001b[1m \u001b[0m\u001b[1mOutput Shape          \u001b[0m\u001b[1m \u001b[0m┃\u001b[1m \u001b[0m\u001b[1m      Param #\u001b[0m\u001b[1m \u001b[0m┃\n",
       "┡━━━━━━━━━━━━━━━━━━━━━━━━━━━━━━━━━╇━━━━━━━━━━━━━━━━━━━━━━━━╇━━━━━━━━━━━━━━━┩\n",
       "│ embedding (\u001b[38;5;33mEmbedding\u001b[0m)           │ (\u001b[38;5;45mNone\u001b[0m, \u001b[38;5;45mNone\u001b[0m, \u001b[38;5;34m2\u001b[0m)        │            \u001b[38;5;34m36\u001b[0m │\n",
       "└─────────────────────────────────┴────────────────────────┴───────────────┘\n"
      ]
     },
     "metadata": {},
     "output_type": "display_data"
    },
    {
     "data": {
      "text/html": [
       "<pre style=\"white-space:pre;overflow-x:auto;line-height:normal;font-family:Menlo,'DejaVu Sans Mono',consolas,'Courier New',monospace\"><span style=\"font-weight: bold\"> Total params: </span><span style=\"color: #00af00; text-decoration-color: #00af00\">36</span> (144.00 B)\n",
       "</pre>\n"
      ],
      "text/plain": [
       "\u001b[1m Total params: \u001b[0m\u001b[38;5;34m36\u001b[0m (144.00 B)\n"
      ]
     },
     "metadata": {},
     "output_type": "display_data"
    },
    {
     "data": {
      "text/html": [
       "<pre style=\"white-space:pre;overflow-x:auto;line-height:normal;font-family:Menlo,'DejaVu Sans Mono',consolas,'Courier New',monospace\"><span style=\"font-weight: bold\"> Trainable params: </span><span style=\"color: #00af00; text-decoration-color: #00af00\">36</span> (144.00 B)\n",
       "</pre>\n"
      ],
      "text/plain": [
       "\u001b[1m Trainable params: \u001b[0m\u001b[38;5;34m36\u001b[0m (144.00 B)\n"
      ]
     },
     "metadata": {},
     "output_type": "display_data"
    },
    {
     "data": {
      "text/html": [
       "<pre style=\"white-space:pre;overflow-x:auto;line-height:normal;font-family:Menlo,'DejaVu Sans Mono',consolas,'Courier New',monospace\"><span style=\"font-weight: bold\"> Non-trainable params: </span><span style=\"color: #00af00; text-decoration-color: #00af00\">0</span> (0.00 B)\n",
       "</pre>\n"
      ],
      "text/plain": [
       "\u001b[1m Non-trainable params: \u001b[0m\u001b[38;5;34m0\u001b[0m (0.00 B)\n"
      ]
     },
     "metadata": {},
     "output_type": "display_data"
    }
   ],
   "source": [
    "vocab_size = len(tokenizer.word_index) + 1  # Always add +1 for padding and max index\n",
    "\n",
    "model = Sequential()\n",
    "model.add(Embedding(input_dim=vocab_size, output_dim=2, input_length=5))\n",
    "model.build(input_shape=(None, None))\n",
    "\n",
    "model.summary()\n"
   ]
  },
  {
   "cell_type": "code",
   "execution_count": null,
   "id": "21ba2c4c",
   "metadata": {},
   "outputs": [],
   "source": [
    "model.compile('adam','accuracy')"
   ]
  },
  {
   "cell_type": "code",
   "execution_count": null,
   "id": "5b41a34e",
   "metadata": {},
   "outputs": [
    {
     "name": "stdout",
     "output_type": "stream",
     "text": [
      "\u001b[1m1/1\u001b[0m \u001b[32m━━━━━━━━━━━━━━━━━━━━\u001b[0m\u001b[37m\u001b[0m \u001b[1m0s\u001b[0m 48ms/step\n",
      "[[[ 0.01169502  0.01521545]\n",
      "  [ 0.03077419  0.03303428]\n",
      "  [ 0.02058519 -0.02861702]\n",
      "  [ 0.02058519 -0.02861702]\n",
      "  [ 0.02058519 -0.02861702]]\n",
      "\n",
      " [[ 0.03077419  0.03303428]\n",
      "  [ 0.03077419  0.03303428]\n",
      "  [ 0.02058519 -0.02861702]\n",
      "  [ 0.02058519 -0.02861702]\n",
      "  [ 0.02058519 -0.02861702]]\n",
      "\n",
      " [[-0.00326518  0.01177356]\n",
      "  [-0.00326518  0.01177356]\n",
      "  [-0.01270987 -0.01696593]\n",
      "  [ 0.02058519 -0.02861702]\n",
      "  [ 0.02058519 -0.02861702]]\n",
      "\n",
      " [[-0.00269152 -0.04305606]\n",
      "  [-0.00426751 -0.0420038 ]\n",
      "  [-0.00269152 -0.04305606]\n",
      "  [ 0.03077419  0.03303428]\n",
      "  [-0.00269152 -0.04305606]]\n",
      "\n",
      " [[ 0.03338305 -0.00423818]\n",
      "  [-0.01274246  0.00279234]\n",
      "  [ 0.01828047 -0.04448085]\n",
      "  [-0.01781106 -0.03960149]\n",
      "  [ 0.02058519 -0.02861702]]\n",
      "\n",
      " [[-0.04535064 -0.04956075]\n",
      "  [-0.04535064 -0.04956075]\n",
      "  [ 0.02058519 -0.02861702]\n",
      "  [ 0.02058519 -0.02861702]\n",
      "  [ 0.02058519 -0.02861702]]\n",
      "\n",
      " [[-0.0037706  -0.03267157]\n",
      "  [-0.0037706  -0.03267157]\n",
      "  [ 0.02058519 -0.02861702]\n",
      "  [ 0.02058519 -0.02861702]\n",
      "  [ 0.02058519 -0.02861702]]\n",
      "\n",
      " [[-0.01533497 -0.04691971]\n",
      "  [-0.01533497 -0.04691971]\n",
      "  [ 0.02058519 -0.02861702]\n",
      "  [ 0.02058519 -0.02861702]\n",
      "  [ 0.02058519 -0.02861702]]\n",
      "\n",
      " [[-0.00877763 -0.0246514 ]\n",
      "  [ 0.01660975  0.03991767]\n",
      "  [ 0.01828047 -0.04448085]\n",
      "  [-0.01781106 -0.03960149]\n",
      "  [ 0.02058519 -0.02861702]]\n",
      "\n",
      " [[ 0.02248695  0.03834664]\n",
      "  [ 0.00429479  0.01843468]\n",
      "  [ 0.02058519 -0.02861702]\n",
      "  [ 0.02058519 -0.02861702]\n",
      "  [ 0.02058519 -0.02861702]]]\n"
     ]
    }
   ],
   "source": [
    "pred=model.predict(sequences)\n",
    "print(pred)"
   ]
  },
  {
   "cell_type": "code",
   "execution_count": null,
   "id": "cbd98032",
   "metadata": {},
   "outputs": [],
   "source": [
    "from keras.datasets import imdb\n",
    "# from keras.preprocessing import Tokenizer\n",
    "from keras.utils import pad_sequences\n",
    "from keras import Sequential\n",
    "from keras.layers import Embedding, Dense, SimpleRNN,Flatten"
   ]
  },
  {
   "cell_type": "code",
   "execution_count": null,
   "id": "7dd5da1d",
   "metadata": {},
   "outputs": [],
   "source": [
    "(X_train,y_train),(X_test,y_test)=imdb.load_data()"
   ]
  },
  {
   "cell_type": "code",
   "execution_count": null,
   "id": "bfb8f8e2",
   "metadata": {},
   "outputs": [
    {
     "data": {
      "text/plain": [
       "(25000, 100)"
      ]
     },
     "execution_count": 14,
     "metadata": {},
     "output_type": "execute_result"
    }
   ],
   "source": [
    "X_train=pad_sequences(X_train,padding='post',maxlen=100)\n",
    "X_test=pad_sequences(X_test,padding='post',maxlen=100)\n",
    "\n",
    "X_test.shape\n"
   ]
  },
  {
   "cell_type": "code",
   "execution_count": null,
   "id": "b53b98c3",
   "metadata": {},
   "outputs": [
    {
     "data": {
      "text/plain": [
       "(25000, 100)"
      ]
     },
     "execution_count": 15,
     "metadata": {},
     "output_type": "execute_result"
    }
   ],
   "source": [
    "X_train.shape"
   ]
  },
  {
   "cell_type": "code",
   "execution_count": null,
   "id": "d2d53dbc",
   "metadata": {},
   "outputs": [
    {
     "data": {
      "text/plain": [
       "(25000,)"
      ]
     },
     "execution_count": 16,
     "metadata": {},
     "output_type": "execute_result"
    }
   ],
   "source": [
    "y_test.shape"
   ]
  },
  {
   "cell_type": "code",
   "execution_count": null,
   "id": "11b4ef42",
   "metadata": {},
   "outputs": [],
   "source": [
    "vocab_size = 10000  # As per num_words given"
   ]
  },
  {
   "cell_type": "code",
   "execution_count": null,
   "id": "fd36d9d8",
   "metadata": {},
   "outputs": [
    {
     "data": {
      "text/html": [
       "<pre style=\"white-space:pre;overflow-x:auto;line-height:normal;font-family:Menlo,'DejaVu Sans Mono',consolas,'Courier New',monospace\"><span style=\"font-weight: bold\">Model: \"sequential_1\"</span>\n",
       "</pre>\n"
      ],
      "text/plain": [
       "\u001b[1mModel: \"sequential_1\"\u001b[0m\n"
      ]
     },
     "metadata": {},
     "output_type": "display_data"
    },
    {
     "data": {
      "text/html": [
       "<pre style=\"white-space:pre;overflow-x:auto;line-height:normal;font-family:Menlo,'DejaVu Sans Mono',consolas,'Courier New',monospace\">┏━━━━━━━━━━━━━━━━━━━━━━━━━━━━━━━━━┳━━━━━━━━━━━━━━━━━━━━━━━━┳━━━━━━━━━━━━━━━┓\n",
       "┃<span style=\"font-weight: bold\"> Layer (type)                    </span>┃<span style=\"font-weight: bold\"> Output Shape           </span>┃<span style=\"font-weight: bold\">       Param # </span>┃\n",
       "┡━━━━━━━━━━━━━━━━━━━━━━━━━━━━━━━━━╇━━━━━━━━━━━━━━━━━━━━━━━━╇━━━━━━━━━━━━━━━┩\n",
       "│ embedding_1 (<span style=\"color: #0087ff; text-decoration-color: #0087ff\">Embedding</span>)         │ (<span style=\"color: #00d7ff; text-decoration-color: #00d7ff\">None</span>, <span style=\"color: #00d7ff; text-decoration-color: #00d7ff\">None</span>, <span style=\"color: #00af00; text-decoration-color: #00af00\">2</span>)        │        <span style=\"color: #00af00; text-decoration-color: #00af00\">20,000</span> │\n",
       "├─────────────────────────────────┼────────────────────────┼───────────────┤\n",
       "│ simple_rnn (<span style=\"color: #0087ff; text-decoration-color: #0087ff\">SimpleRNN</span>)          │ (<span style=\"color: #00d7ff; text-decoration-color: #00d7ff\">None</span>, <span style=\"color: #00af00; text-decoration-color: #00af00\">32</span>)             │         <span style=\"color: #00af00; text-decoration-color: #00af00\">1,120</span> │\n",
       "├─────────────────────────────────┼────────────────────────┼───────────────┤\n",
       "│ dense (<span style=\"color: #0087ff; text-decoration-color: #0087ff\">Dense</span>)                   │ (<span style=\"color: #00d7ff; text-decoration-color: #00d7ff\">None</span>, <span style=\"color: #00af00; text-decoration-color: #00af00\">1</span>)              │            <span style=\"color: #00af00; text-decoration-color: #00af00\">33</span> │\n",
       "└─────────────────────────────────┴────────────────────────┴───────────────┘\n",
       "</pre>\n"
      ],
      "text/plain": [
       "┏━━━━━━━━━━━━━━━━━━━━━━━━━━━━━━━━━┳━━━━━━━━━━━━━━━━━━━━━━━━┳━━━━━━━━━━━━━━━┓\n",
       "┃\u001b[1m \u001b[0m\u001b[1mLayer (type)                   \u001b[0m\u001b[1m \u001b[0m┃\u001b[1m \u001b[0m\u001b[1mOutput Shape          \u001b[0m\u001b[1m \u001b[0m┃\u001b[1m \u001b[0m\u001b[1m      Param #\u001b[0m\u001b[1m \u001b[0m┃\n",
       "┡━━━━━━━━━━━━━━━━━━━━━━━━━━━━━━━━━╇━━━━━━━━━━━━━━━━━━━━━━━━╇━━━━━━━━━━━━━━━┩\n",
       "│ embedding_1 (\u001b[38;5;33mEmbedding\u001b[0m)         │ (\u001b[38;5;45mNone\u001b[0m, \u001b[38;5;45mNone\u001b[0m, \u001b[38;5;34m2\u001b[0m)        │        \u001b[38;5;34m20,000\u001b[0m │\n",
       "├─────────────────────────────────┼────────────────────────┼───────────────┤\n",
       "│ simple_rnn (\u001b[38;5;33mSimpleRNN\u001b[0m)          │ (\u001b[38;5;45mNone\u001b[0m, \u001b[38;5;34m32\u001b[0m)             │         \u001b[38;5;34m1,120\u001b[0m │\n",
       "├─────────────────────────────────┼────────────────────────┼───────────────┤\n",
       "│ dense (\u001b[38;5;33mDense\u001b[0m)                   │ (\u001b[38;5;45mNone\u001b[0m, \u001b[38;5;34m1\u001b[0m)              │            \u001b[38;5;34m33\u001b[0m │\n",
       "└─────────────────────────────────┴────────────────────────┴───────────────┘\n"
      ]
     },
     "metadata": {},
     "output_type": "display_data"
    },
    {
     "data": {
      "text/html": [
       "<pre style=\"white-space:pre;overflow-x:auto;line-height:normal;font-family:Menlo,'DejaVu Sans Mono',consolas,'Courier New',monospace\"><span style=\"font-weight: bold\"> Total params: </span><span style=\"color: #00af00; text-decoration-color: #00af00\">21,153</span> (82.63 KB)\n",
       "</pre>\n"
      ],
      "text/plain": [
       "\u001b[1m Total params: \u001b[0m\u001b[38;5;34m21,153\u001b[0m (82.63 KB)\n"
      ]
     },
     "metadata": {},
     "output_type": "display_data"
    },
    {
     "data": {
      "text/html": [
       "<pre style=\"white-space:pre;overflow-x:auto;line-height:normal;font-family:Menlo,'DejaVu Sans Mono',consolas,'Courier New',monospace\"><span style=\"font-weight: bold\"> Trainable params: </span><span style=\"color: #00af00; text-decoration-color: #00af00\">21,153</span> (82.63 KB)\n",
       "</pre>\n"
      ],
      "text/plain": [
       "\u001b[1m Trainable params: \u001b[0m\u001b[38;5;34m21,153\u001b[0m (82.63 KB)\n"
      ]
     },
     "metadata": {},
     "output_type": "display_data"
    },
    {
     "data": {
      "text/html": [
       "<pre style=\"white-space:pre;overflow-x:auto;line-height:normal;font-family:Menlo,'DejaVu Sans Mono',consolas,'Courier New',monospace\"><span style=\"font-weight: bold\"> Non-trainable params: </span><span style=\"color: #00af00; text-decoration-color: #00af00\">0</span> (0.00 B)\n",
       "</pre>\n"
      ],
      "text/plain": [
       "\u001b[1m Non-trainable params: \u001b[0m\u001b[38;5;34m0\u001b[0m (0.00 B)\n"
      ]
     },
     "metadata": {},
     "output_type": "display_data"
    }
   ],
   "source": [
    "model=Sequential()\n",
    "\n",
    "model.add(Embedding(vocab_size, 2, input_length=50))\n",
    "model.add(SimpleRNN(32, return_sequences=False))\n",
    "model.add(Dense(1, activation='sigmoid'))\n",
    "model.build(input_shape=(None, None))\n",
    "\n",
    "model.summary()"
   ]
  },
  {
   "cell_type": "code",
   "execution_count": null,
   "id": "0a6d612f",
   "metadata": {},
   "outputs": [
    {
     "name": "stdout",
     "output_type": "stream",
     "text": [
      "Epoch 1/5\n"
     ]
    },
    {
     "ename": "InvalidArgumentError",
     "evalue": "Graph execution error:\n\nDetected at node sequential_1_1/embedding_1_1/GatherV2 defined at (most recent call last):\n  File \"<frozen runpy>\", line 198, in _run_module_as_main\n\n  File \"<frozen runpy>\", line 88, in _run_code\n\n  File \"d:\\Project-to-learn\\Whatsapp-chat-Analysis-system\\.tensorli\\Lib\\site-packages\\ipykernel_launcher.py\", line 18, in <module>\n\n  File \"d:\\Project-to-learn\\Whatsapp-chat-Analysis-system\\.tensorli\\Lib\\site-packages\\traitlets\\config\\application.py\", line 1075, in launch_instance\n\n  File \"d:\\Project-to-learn\\Whatsapp-chat-Analysis-system\\.tensorli\\Lib\\site-packages\\ipykernel\\kernelapp.py\", line 739, in start\n\n  File \"d:\\Project-to-learn\\Whatsapp-chat-Analysis-system\\.tensorli\\Lib\\site-packages\\tornado\\platform\\asyncio.py\", line 211, in start\n\n  File \"C:\\Users\\sande\\AppData\\Local\\Programs\\Python\\Python311\\Lib\\asyncio\\base_events.py\", line 604, in run_forever\n\n  File \"C:\\Users\\sande\\AppData\\Local\\Programs\\Python\\Python311\\Lib\\asyncio\\base_events.py\", line 1909, in _run_once\n\n  File \"C:\\Users\\sande\\AppData\\Local\\Programs\\Python\\Python311\\Lib\\asyncio\\events.py\", line 80, in _run\n\n  File \"d:\\Project-to-learn\\Whatsapp-chat-Analysis-system\\.tensorli\\Lib\\site-packages\\ipykernel\\kernelbase.py\", line 545, in dispatch_queue\n\n  File \"d:\\Project-to-learn\\Whatsapp-chat-Analysis-system\\.tensorli\\Lib\\site-packages\\ipykernel\\kernelbase.py\", line 534, in process_one\n\n  File \"d:\\Project-to-learn\\Whatsapp-chat-Analysis-system\\.tensorli\\Lib\\site-packages\\ipykernel\\kernelbase.py\", line 437, in dispatch_shell\n\n  File \"d:\\Project-to-learn\\Whatsapp-chat-Analysis-system\\.tensorli\\Lib\\site-packages\\ipykernel\\ipkernel.py\", line 362, in execute_request\n\n  File \"d:\\Project-to-learn\\Whatsapp-chat-Analysis-system\\.tensorli\\Lib\\site-packages\\ipykernel\\kernelbase.py\", line 778, in execute_request\n\n  File \"d:\\Project-to-learn\\Whatsapp-chat-Analysis-system\\.tensorli\\Lib\\site-packages\\ipykernel\\ipkernel.py\", line 449, in do_execute\n\n  File \"d:\\Project-to-learn\\Whatsapp-chat-Analysis-system\\.tensorli\\Lib\\site-packages\\ipykernel\\zmqshell.py\", line 549, in run_cell\n\n  File \"d:\\Project-to-learn\\Whatsapp-chat-Analysis-system\\.tensorli\\Lib\\site-packages\\IPython\\core\\interactiveshell.py\", line 3100, in run_cell\n\n  File \"d:\\Project-to-learn\\Whatsapp-chat-Analysis-system\\.tensorli\\Lib\\site-packages\\IPython\\core\\interactiveshell.py\", line 3155, in _run_cell\n\n  File \"d:\\Project-to-learn\\Whatsapp-chat-Analysis-system\\.tensorli\\Lib\\site-packages\\IPython\\core\\async_helpers.py\", line 128, in _pseudo_sync_runner\n\n  File \"d:\\Project-to-learn\\Whatsapp-chat-Analysis-system\\.tensorli\\Lib\\site-packages\\IPython\\core\\interactiveshell.py\", line 3367, in run_cell_async\n\n  File \"d:\\Project-to-learn\\Whatsapp-chat-Analysis-system\\.tensorli\\Lib\\site-packages\\IPython\\core\\interactiveshell.py\", line 3612, in run_ast_nodes\n\n  File \"d:\\Project-to-learn\\Whatsapp-chat-Analysis-system\\.tensorli\\Lib\\site-packages\\IPython\\core\\interactiveshell.py\", line 3672, in run_code\n\n  File \"C:\\Users\\sande\\AppData\\Local\\Temp\\ipykernel_18652\\374916602.py\", line 2, in <module>\n\n  File \"d:\\Project-to-learn\\Whatsapp-chat-Analysis-system\\.tensorli\\Lib\\site-packages\\keras\\src\\utils\\traceback_utils.py\", line 117, in error_handler\n\n  File \"d:\\Project-to-learn\\Whatsapp-chat-Analysis-system\\.tensorli\\Lib\\site-packages\\keras\\src\\backend\\tensorflow\\trainer.py\", line 377, in fit\n\n  File \"d:\\Project-to-learn\\Whatsapp-chat-Analysis-system\\.tensorli\\Lib\\site-packages\\keras\\src\\backend\\tensorflow\\trainer.py\", line 220, in function\n\n  File \"d:\\Project-to-learn\\Whatsapp-chat-Analysis-system\\.tensorli\\Lib\\site-packages\\keras\\src\\backend\\tensorflow\\trainer.py\", line 133, in multi_step_on_iterator\n\n  File \"d:\\Project-to-learn\\Whatsapp-chat-Analysis-system\\.tensorli\\Lib\\site-packages\\keras\\src\\backend\\tensorflow\\trainer.py\", line 114, in one_step_on_data\n\n  File \"d:\\Project-to-learn\\Whatsapp-chat-Analysis-system\\.tensorli\\Lib\\site-packages\\keras\\src\\backend\\tensorflow\\trainer.py\", line 58, in train_step\n\n  File \"d:\\Project-to-learn\\Whatsapp-chat-Analysis-system\\.tensorli\\Lib\\site-packages\\keras\\src\\utils\\traceback_utils.py\", line 117, in error_handler\n\n  File \"d:\\Project-to-learn\\Whatsapp-chat-Analysis-system\\.tensorli\\Lib\\site-packages\\keras\\src\\layers\\layer.py\", line 936, in __call__\n\n  File \"d:\\Project-to-learn\\Whatsapp-chat-Analysis-system\\.tensorli\\Lib\\site-packages\\keras\\src\\utils\\traceback_utils.py\", line 117, in error_handler\n\n  File \"d:\\Project-to-learn\\Whatsapp-chat-Analysis-system\\.tensorli\\Lib\\site-packages\\keras\\src\\ops\\operation.py\", line 58, in __call__\n\n  File \"d:\\Project-to-learn\\Whatsapp-chat-Analysis-system\\.tensorli\\Lib\\site-packages\\keras\\src\\utils\\traceback_utils.py\", line 156, in error_handler\n\n  File \"d:\\Project-to-learn\\Whatsapp-chat-Analysis-system\\.tensorli\\Lib\\site-packages\\keras\\src\\models\\sequential.py\", line 220, in call\n\n  File \"d:\\Project-to-learn\\Whatsapp-chat-Analysis-system\\.tensorli\\Lib\\site-packages\\keras\\src\\models\\functional.py\", line 183, in call\n\n  File \"d:\\Project-to-learn\\Whatsapp-chat-Analysis-system\\.tensorli\\Lib\\site-packages\\keras\\src\\ops\\function.py\", line 177, in _run_through_graph\n\n  File \"d:\\Project-to-learn\\Whatsapp-chat-Analysis-system\\.tensorli\\Lib\\site-packages\\keras\\src\\models\\functional.py\", line 648, in call\n\n  File \"d:\\Project-to-learn\\Whatsapp-chat-Analysis-system\\.tensorli\\Lib\\site-packages\\keras\\src\\utils\\traceback_utils.py\", line 117, in error_handler\n\n  File \"d:\\Project-to-learn\\Whatsapp-chat-Analysis-system\\.tensorli\\Lib\\site-packages\\keras\\src\\layers\\layer.py\", line 936, in __call__\n\n  File \"d:\\Project-to-learn\\Whatsapp-chat-Analysis-system\\.tensorli\\Lib\\site-packages\\keras\\src\\utils\\traceback_utils.py\", line 117, in error_handler\n\n  File \"d:\\Project-to-learn\\Whatsapp-chat-Analysis-system\\.tensorli\\Lib\\site-packages\\keras\\src\\ops\\operation.py\", line 58, in __call__\n\n  File \"d:\\Project-to-learn\\Whatsapp-chat-Analysis-system\\.tensorli\\Lib\\site-packages\\keras\\src\\utils\\traceback_utils.py\", line 156, in error_handler\n\n  File \"d:\\Project-to-learn\\Whatsapp-chat-Analysis-system\\.tensorli\\Lib\\site-packages\\keras\\src\\layers\\core\\embedding.py\", line 150, in call\n\n  File \"d:\\Project-to-learn\\Whatsapp-chat-Analysis-system\\.tensorli\\Lib\\site-packages\\keras\\src\\ops\\numpy.py\", line 5581, in take\n\n  File \"d:\\Project-to-learn\\Whatsapp-chat-Analysis-system\\.tensorli\\Lib\\site-packages\\keras\\src\\backend\\tensorflow\\numpy.py\", line 2274, in take\n\nindices[0,18] = 31370 is not in [0, 10000)\n\t [[{{node sequential_1_1/embedding_1_1/GatherV2}}]] [Op:__inference_multi_step_on_iterator_2258]",
     "output_type": "error",
     "traceback": [
      "\u001b[31m---------------------------------------------------------------------------\u001b[39m",
      "\u001b[31mInvalidArgumentError\u001b[39m                      Traceback (most recent call last)",
      "\u001b[36mCell\u001b[39m\u001b[36m \u001b[39m\u001b[32mIn[19]\u001b[39m\u001b[32m, line 2\u001b[39m\n\u001b[32m      1\u001b[39m model.compile(optimizer=\u001b[33m'\u001b[39m\u001b[33madam\u001b[39m\u001b[33m'\u001b[39m,loss=\u001b[33m'\u001b[39m\u001b[33mbinary_crossentropy\u001b[39m\u001b[33m'\u001b[39m,metrics=[\u001b[33m'\u001b[39m\u001b[33macc\u001b[39m\u001b[33m'\u001b[39m])\n\u001b[32m----> \u001b[39m\u001b[32m2\u001b[39m \u001b[43mmodel\u001b[49m\u001b[43m.\u001b[49m\u001b[43mfit\u001b[49m\u001b[43m(\u001b[49m\u001b[43mX_train\u001b[49m\u001b[43m,\u001b[49m\u001b[43my_train\u001b[49m\u001b[43m,\u001b[49m\u001b[43mepochs\u001b[49m\u001b[43m=\u001b[49m\u001b[32;43m5\u001b[39;49m\u001b[43m,\u001b[49m\u001b[43mvalidation_data\u001b[49m\u001b[43m=\u001b[49m\u001b[43m(\u001b[49m\u001b[43mX_test\u001b[49m\u001b[43m,\u001b[49m\u001b[43my_test\u001b[49m\u001b[43m)\u001b[49m\u001b[43m)\u001b[49m\n",
      "\u001b[36mFile \u001b[39m\u001b[32md:\\Project-to-learn\\Whatsapp-chat-Analysis-system\\.tensorli\\Lib\\site-packages\\keras\\src\\utils\\traceback_utils.py:122\u001b[39m, in \u001b[36mfilter_traceback.<locals>.error_handler\u001b[39m\u001b[34m(*args, **kwargs)\u001b[39m\n\u001b[32m    119\u001b[39m     filtered_tb = _process_traceback_frames(e.__traceback__)\n\u001b[32m    120\u001b[39m     \u001b[38;5;66;03m# To get the full stack trace, call:\u001b[39;00m\n\u001b[32m    121\u001b[39m     \u001b[38;5;66;03m# `keras.config.disable_traceback_filtering()`\u001b[39;00m\n\u001b[32m--> \u001b[39m\u001b[32m122\u001b[39m     \u001b[38;5;28;01mraise\u001b[39;00m e.with_traceback(filtered_tb) \u001b[38;5;28;01mfrom\u001b[39;00m\u001b[38;5;250m \u001b[39m\u001b[38;5;28;01mNone\u001b[39;00m\n\u001b[32m    123\u001b[39m \u001b[38;5;28;01mfinally\u001b[39;00m:\n\u001b[32m    124\u001b[39m     \u001b[38;5;28;01mdel\u001b[39;00m filtered_tb\n",
      "\u001b[36mFile \u001b[39m\u001b[32md:\\Project-to-learn\\Whatsapp-chat-Analysis-system\\.tensorli\\Lib\\site-packages\\tensorflow\\python\\eager\\execute.py:53\u001b[39m, in \u001b[36mquick_execute\u001b[39m\u001b[34m(op_name, num_outputs, inputs, attrs, ctx, name)\u001b[39m\n\u001b[32m     51\u001b[39m \u001b[38;5;28;01mtry\u001b[39;00m:\n\u001b[32m     52\u001b[39m   ctx.ensure_initialized()\n\u001b[32m---> \u001b[39m\u001b[32m53\u001b[39m   tensors = pywrap_tfe.TFE_Py_Execute(ctx._handle, device_name, op_name,\n\u001b[32m     54\u001b[39m                                       inputs, attrs, num_outputs)\n\u001b[32m     55\u001b[39m \u001b[38;5;28;01mexcept\u001b[39;00m core._NotOkStatusException \u001b[38;5;28;01mas\u001b[39;00m e:\n\u001b[32m     56\u001b[39m   \u001b[38;5;28;01mif\u001b[39;00m name \u001b[38;5;129;01mis\u001b[39;00m \u001b[38;5;129;01mnot\u001b[39;00m \u001b[38;5;28;01mNone\u001b[39;00m:\n",
      "\u001b[31mInvalidArgumentError\u001b[39m: Graph execution error:\n\nDetected at node sequential_1_1/embedding_1_1/GatherV2 defined at (most recent call last):\n  File \"<frozen runpy>\", line 198, in _run_module_as_main\n\n  File \"<frozen runpy>\", line 88, in _run_code\n\n  File \"d:\\Project-to-learn\\Whatsapp-chat-Analysis-system\\.tensorli\\Lib\\site-packages\\ipykernel_launcher.py\", line 18, in <module>\n\n  File \"d:\\Project-to-learn\\Whatsapp-chat-Analysis-system\\.tensorli\\Lib\\site-packages\\traitlets\\config\\application.py\", line 1075, in launch_instance\n\n  File \"d:\\Project-to-learn\\Whatsapp-chat-Analysis-system\\.tensorli\\Lib\\site-packages\\ipykernel\\kernelapp.py\", line 739, in start\n\n  File \"d:\\Project-to-learn\\Whatsapp-chat-Analysis-system\\.tensorli\\Lib\\site-packages\\tornado\\platform\\asyncio.py\", line 211, in start\n\n  File \"C:\\Users\\sande\\AppData\\Local\\Programs\\Python\\Python311\\Lib\\asyncio\\base_events.py\", line 604, in run_forever\n\n  File \"C:\\Users\\sande\\AppData\\Local\\Programs\\Python\\Python311\\Lib\\asyncio\\base_events.py\", line 1909, in _run_once\n\n  File \"C:\\Users\\sande\\AppData\\Local\\Programs\\Python\\Python311\\Lib\\asyncio\\events.py\", line 80, in _run\n\n  File \"d:\\Project-to-learn\\Whatsapp-chat-Analysis-system\\.tensorli\\Lib\\site-packages\\ipykernel\\kernelbase.py\", line 545, in dispatch_queue\n\n  File \"d:\\Project-to-learn\\Whatsapp-chat-Analysis-system\\.tensorli\\Lib\\site-packages\\ipykernel\\kernelbase.py\", line 534, in process_one\n\n  File \"d:\\Project-to-learn\\Whatsapp-chat-Analysis-system\\.tensorli\\Lib\\site-packages\\ipykernel\\kernelbase.py\", line 437, in dispatch_shell\n\n  File \"d:\\Project-to-learn\\Whatsapp-chat-Analysis-system\\.tensorli\\Lib\\site-packages\\ipykernel\\ipkernel.py\", line 362, in execute_request\n\n  File \"d:\\Project-to-learn\\Whatsapp-chat-Analysis-system\\.tensorli\\Lib\\site-packages\\ipykernel\\kernelbase.py\", line 778, in execute_request\n\n  File \"d:\\Project-to-learn\\Whatsapp-chat-Analysis-system\\.tensorli\\Lib\\site-packages\\ipykernel\\ipkernel.py\", line 449, in do_execute\n\n  File \"d:\\Project-to-learn\\Whatsapp-chat-Analysis-system\\.tensorli\\Lib\\site-packages\\ipykernel\\zmqshell.py\", line 549, in run_cell\n\n  File \"d:\\Project-to-learn\\Whatsapp-chat-Analysis-system\\.tensorli\\Lib\\site-packages\\IPython\\core\\interactiveshell.py\", line 3100, in run_cell\n\n  File \"d:\\Project-to-learn\\Whatsapp-chat-Analysis-system\\.tensorli\\Lib\\site-packages\\IPython\\core\\interactiveshell.py\", line 3155, in _run_cell\n\n  File \"d:\\Project-to-learn\\Whatsapp-chat-Analysis-system\\.tensorli\\Lib\\site-packages\\IPython\\core\\async_helpers.py\", line 128, in _pseudo_sync_runner\n\n  File \"d:\\Project-to-learn\\Whatsapp-chat-Analysis-system\\.tensorli\\Lib\\site-packages\\IPython\\core\\interactiveshell.py\", line 3367, in run_cell_async\n\n  File \"d:\\Project-to-learn\\Whatsapp-chat-Analysis-system\\.tensorli\\Lib\\site-packages\\IPython\\core\\interactiveshell.py\", line 3612, in run_ast_nodes\n\n  File \"d:\\Project-to-learn\\Whatsapp-chat-Analysis-system\\.tensorli\\Lib\\site-packages\\IPython\\core\\interactiveshell.py\", line 3672, in run_code\n\n  File \"C:\\Users\\sande\\AppData\\Local\\Temp\\ipykernel_18652\\374916602.py\", line 2, in <module>\n\n  File \"d:\\Project-to-learn\\Whatsapp-chat-Analysis-system\\.tensorli\\Lib\\site-packages\\keras\\src\\utils\\traceback_utils.py\", line 117, in error_handler\n\n  File \"d:\\Project-to-learn\\Whatsapp-chat-Analysis-system\\.tensorli\\Lib\\site-packages\\keras\\src\\backend\\tensorflow\\trainer.py\", line 377, in fit\n\n  File \"d:\\Project-to-learn\\Whatsapp-chat-Analysis-system\\.tensorli\\Lib\\site-packages\\keras\\src\\backend\\tensorflow\\trainer.py\", line 220, in function\n\n  File \"d:\\Project-to-learn\\Whatsapp-chat-Analysis-system\\.tensorli\\Lib\\site-packages\\keras\\src\\backend\\tensorflow\\trainer.py\", line 133, in multi_step_on_iterator\n\n  File \"d:\\Project-to-learn\\Whatsapp-chat-Analysis-system\\.tensorli\\Lib\\site-packages\\keras\\src\\backend\\tensorflow\\trainer.py\", line 114, in one_step_on_data\n\n  File \"d:\\Project-to-learn\\Whatsapp-chat-Analysis-system\\.tensorli\\Lib\\site-packages\\keras\\src\\backend\\tensorflow\\trainer.py\", line 58, in train_step\n\n  File \"d:\\Project-to-learn\\Whatsapp-chat-Analysis-system\\.tensorli\\Lib\\site-packages\\keras\\src\\utils\\traceback_utils.py\", line 117, in error_handler\n\n  File \"d:\\Project-to-learn\\Whatsapp-chat-Analysis-system\\.tensorli\\Lib\\site-packages\\keras\\src\\layers\\layer.py\", line 936, in __call__\n\n  File \"d:\\Project-to-learn\\Whatsapp-chat-Analysis-system\\.tensorli\\Lib\\site-packages\\keras\\src\\utils\\traceback_utils.py\", line 117, in error_handler\n\n  File \"d:\\Project-to-learn\\Whatsapp-chat-Analysis-system\\.tensorli\\Lib\\site-packages\\keras\\src\\ops\\operation.py\", line 58, in __call__\n\n  File \"d:\\Project-to-learn\\Whatsapp-chat-Analysis-system\\.tensorli\\Lib\\site-packages\\keras\\src\\utils\\traceback_utils.py\", line 156, in error_handler\n\n  File \"d:\\Project-to-learn\\Whatsapp-chat-Analysis-system\\.tensorli\\Lib\\site-packages\\keras\\src\\models\\sequential.py\", line 220, in call\n\n  File \"d:\\Project-to-learn\\Whatsapp-chat-Analysis-system\\.tensorli\\Lib\\site-packages\\keras\\src\\models\\functional.py\", line 183, in call\n\n  File \"d:\\Project-to-learn\\Whatsapp-chat-Analysis-system\\.tensorli\\Lib\\site-packages\\keras\\src\\ops\\function.py\", line 177, in _run_through_graph\n\n  File \"d:\\Project-to-learn\\Whatsapp-chat-Analysis-system\\.tensorli\\Lib\\site-packages\\keras\\src\\models\\functional.py\", line 648, in call\n\n  File \"d:\\Project-to-learn\\Whatsapp-chat-Analysis-system\\.tensorli\\Lib\\site-packages\\keras\\src\\utils\\traceback_utils.py\", line 117, in error_handler\n\n  File \"d:\\Project-to-learn\\Whatsapp-chat-Analysis-system\\.tensorli\\Lib\\site-packages\\keras\\src\\layers\\layer.py\", line 936, in __call__\n\n  File \"d:\\Project-to-learn\\Whatsapp-chat-Analysis-system\\.tensorli\\Lib\\site-packages\\keras\\src\\utils\\traceback_utils.py\", line 117, in error_handler\n\n  File \"d:\\Project-to-learn\\Whatsapp-chat-Analysis-system\\.tensorli\\Lib\\site-packages\\keras\\src\\ops\\operation.py\", line 58, in __call__\n\n  File \"d:\\Project-to-learn\\Whatsapp-chat-Analysis-system\\.tensorli\\Lib\\site-packages\\keras\\src\\utils\\traceback_utils.py\", line 156, in error_handler\n\n  File \"d:\\Project-to-learn\\Whatsapp-chat-Analysis-system\\.tensorli\\Lib\\site-packages\\keras\\src\\layers\\core\\embedding.py\", line 150, in call\n\n  File \"d:\\Project-to-learn\\Whatsapp-chat-Analysis-system\\.tensorli\\Lib\\site-packages\\keras\\src\\ops\\numpy.py\", line 5581, in take\n\n  File \"d:\\Project-to-learn\\Whatsapp-chat-Analysis-system\\.tensorli\\Lib\\site-packages\\keras\\src\\backend\\tensorflow\\numpy.py\", line 2274, in take\n\nindices[0,18] = 31370 is not in [0, 10000)\n\t [[{{node sequential_1_1/embedding_1_1/GatherV2}}]] [Op:__inference_multi_step_on_iterator_2258]"
     ]
    }
   ],
   "source": [
    "model.compile(optimizer='adam',loss='binary_crossentropy',metrics=['accuracy'])\n",
    "model.fit(X_train,y_train,epochs=5,validation_data=(X_test,y_test))"
   ]
  }
 ],
 "metadata": {
  "kernelspec": {
   "display_name": "analysis",
   "language": "python",
   "name": "python3"
  },
  "language_info": {
   "codemirror_mode": {
    "name": "ipython",
    "version": 3
   },
   "file_extension": ".py",
   "mimetype": "text/x-python",
   "name": "python",
   "nbconvert_exporter": "python",
   "pygments_lexer": "ipython3",
   "version": "3.13.5"
  }
 },
 "nbformat": 4,
 "nbformat_minor": 5
}
