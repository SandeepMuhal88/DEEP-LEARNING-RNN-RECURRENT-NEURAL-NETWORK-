{
 "cells": [
  {
   "cell_type": "code",
   "execution_count": 1,
   "id": "c7de55c2",
   "metadata": {},
   "outputs": [],
   "source": [
    "import tensorflow\n",
    "from tensorflow import keras\n",
    "from keras.models import Sequential\n",
    "from keras.layers import Dense, SimpleRNN, Embedding, Flatten"
   ]
  },
  {
   "cell_type": "code",
   "execution_count": 2,
   "id": "feeb90f9",
   "metadata": {},
   "outputs": [],
   "source": [
    "docs = ['go india',\n",
    "\t\t'india india',\n",
    "\t\t'hip hip hurray',\n",
    "\t\t'jeetega bhai jeetega india jeetega',\n",
    "\t\t'bharat mata ki jai',\n",
    "\t\t'kohli kohli',\n",
    "\t\t'sachin sachin',\n",
    "\t\t'dhoni dhoni',\n",
    "\t\t'modi ji ki jai',\n",
    "\t\t'inquilab zindabad']"
   ]
  },
  {
   "cell_type": "code",
   "execution_count": 3,
   "id": "f4252d36",
   "metadata": {},
   "outputs": [],
   "source": [
    "from tensorflow.keras.preprocessing.text import Tokenizer\n",
    "tokenizer = Tokenizer()"
   ]
  },
  {
   "cell_type": "code",
   "execution_count": 4,
   "id": "1a01fe3d",
   "metadata": {},
   "outputs": [],
   "source": [
    "tokenizer.fit_on_texts(docs)"
   ]
  },
  {
   "cell_type": "code",
   "execution_count": 5,
   "id": "6d1a36a1",
   "metadata": {},
   "outputs": [],
   "source": [
    "vocab_size=len(tokenizer.word_index)+1"
   ]
  },
  {
   "cell_type": "code",
   "execution_count": 6,
   "id": "f397c847",
   "metadata": {},
   "outputs": [
    {
     "data": {
      "text/plain": [
       "[[9, 1],\n",
       " [1, 1],\n",
       " [3, 3, 10],\n",
       " [2, 11, 2, 1, 2],\n",
       " [12, 13, 4, 5],\n",
       " [6, 6],\n",
       " [7, 7],\n",
       " [8, 8],\n",
       " [14, 15, 4, 5],\n",
       " [16, 17]]"
      ]
     },
     "execution_count": 6,
     "metadata": {},
     "output_type": "execute_result"
    }
   ],
   "source": [
    "Sequences=tokenizer.texts_to_sequences(docs)\n",
    "Sequences"
   ]
  },
  {
   "cell_type": "code",
   "execution_count": 7,
   "id": "14f76f2d",
   "metadata": {},
   "outputs": [
    {
     "data": {
      "text/plain": [
       "10"
      ]
     },
     "execution_count": 7,
     "metadata": {},
     "output_type": "execute_result"
    }
   ],
   "source": [
    "len(Sequences)"
   ]
  },
  {
   "cell_type": "code",
   "execution_count": 8,
   "id": "bfc72eb0",
   "metadata": {},
   "outputs": [
    {
     "data": {
      "text/plain": [
       "array([[ 9,  1,  0,  0,  0],\n",
       "       [ 1,  1,  0,  0,  0],\n",
       "       [ 3,  3, 10,  0,  0],\n",
       "       [ 2, 11,  2,  1,  2],\n",
       "       [12, 13,  4,  5,  0],\n",
       "       [ 6,  6,  0,  0,  0],\n",
       "       [ 7,  7,  0,  0,  0],\n",
       "       [ 8,  8,  0,  0,  0],\n",
       "       [14, 15,  4,  5,  0],\n",
       "       [16, 17,  0,  0,  0]], dtype=int32)"
      ]
     },
     "execution_count": 8,
     "metadata": {},
     "output_type": "execute_result"
    }
   ],
   "source": [
    "from keras.utils import pad_sequences\n",
    "sequences=pad_sequences(Sequences,padding='post')\n",
    "sequences\n"
   ]
  },
  {
   "cell_type": "code",
   "execution_count": 9,
   "id": "69767506",
   "metadata": {},
   "outputs": [
    {
     "name": "stderr",
     "output_type": "stream",
     "text": [
      "d:\\Project-to-learn\\.machine\\lib\\site-packages\\keras\\src\\layers\\core\\embedding.py:97: UserWarning: Argument `input_length` is deprecated. Just remove it.\n",
      "  warnings.warn(\n"
     ]
    },
    {
     "data": {
      "text/html": [
       "<pre style=\"white-space:pre;overflow-x:auto;line-height:normal;font-family:Menlo,'DejaVu Sans Mono',consolas,'Courier New',monospace\"><span style=\"font-weight: bold\">Model: \"sequential\"</span>\n",
       "</pre>\n"
      ],
      "text/plain": [
       "\u001b[1mModel: \"sequential\"\u001b[0m\n"
      ]
     },
     "metadata": {},
     "output_type": "display_data"
    },
    {
     "data": {
      "text/html": [
       "<pre style=\"white-space:pre;overflow-x:auto;line-height:normal;font-family:Menlo,'DejaVu Sans Mono',consolas,'Courier New',monospace\">┏━━━━━━━━━━━━━━━━━━━━━━━━━━━━━━━━━┳━━━━━━━━━━━━━━━━━━━━━━━━┳━━━━━━━━━━━━━━━┓\n",
       "┃<span style=\"font-weight: bold\"> Layer (type)                    </span>┃<span style=\"font-weight: bold\"> Output Shape           </span>┃<span style=\"font-weight: bold\">       Param # </span>┃\n",
       "┡━━━━━━━━━━━━━━━━━━━━━━━━━━━━━━━━━╇━━━━━━━━━━━━━━━━━━━━━━━━╇━━━━━━━━━━━━━━━┩\n",
       "│ embedding (<span style=\"color: #0087ff; text-decoration-color: #0087ff\">Embedding</span>)           │ (<span style=\"color: #00d7ff; text-decoration-color: #00d7ff\">None</span>, <span style=\"color: #00d7ff; text-decoration-color: #00d7ff\">None</span>, <span style=\"color: #00af00; text-decoration-color: #00af00\">2</span>)        │            <span style=\"color: #00af00; text-decoration-color: #00af00\">36</span> │\n",
       "└─────────────────────────────────┴────────────────────────┴───────────────┘\n",
       "</pre>\n"
      ],
      "text/plain": [
       "┏━━━━━━━━━━━━━━━━━━━━━━━━━━━━━━━━━┳━━━━━━━━━━━━━━━━━━━━━━━━┳━━━━━━━━━━━━━━━┓\n",
       "┃\u001b[1m \u001b[0m\u001b[1mLayer (type)                   \u001b[0m\u001b[1m \u001b[0m┃\u001b[1m \u001b[0m\u001b[1mOutput Shape          \u001b[0m\u001b[1m \u001b[0m┃\u001b[1m \u001b[0m\u001b[1m      Param #\u001b[0m\u001b[1m \u001b[0m┃\n",
       "┡━━━━━━━━━━━━━━━━━━━━━━━━━━━━━━━━━╇━━━━━━━━━━━━━━━━━━━━━━━━╇━━━━━━━━━━━━━━━┩\n",
       "│ embedding (\u001b[38;5;33mEmbedding\u001b[0m)           │ (\u001b[38;5;45mNone\u001b[0m, \u001b[38;5;45mNone\u001b[0m, \u001b[38;5;34m2\u001b[0m)        │            \u001b[38;5;34m36\u001b[0m │\n",
       "└─────────────────────────────────┴────────────────────────┴───────────────┘\n"
      ]
     },
     "metadata": {},
     "output_type": "display_data"
    },
    {
     "data": {
      "text/html": [
       "<pre style=\"white-space:pre;overflow-x:auto;line-height:normal;font-family:Menlo,'DejaVu Sans Mono',consolas,'Courier New',monospace\"><span style=\"font-weight: bold\"> Total params: </span><span style=\"color: #00af00; text-decoration-color: #00af00\">36</span> (144.00 B)\n",
       "</pre>\n"
      ],
      "text/plain": [
       "\u001b[1m Total params: \u001b[0m\u001b[38;5;34m36\u001b[0m (144.00 B)\n"
      ]
     },
     "metadata": {},
     "output_type": "display_data"
    },
    {
     "data": {
      "text/html": [
       "<pre style=\"white-space:pre;overflow-x:auto;line-height:normal;font-family:Menlo,'DejaVu Sans Mono',consolas,'Courier New',monospace\"><span style=\"font-weight: bold\"> Trainable params: </span><span style=\"color: #00af00; text-decoration-color: #00af00\">36</span> (144.00 B)\n",
       "</pre>\n"
      ],
      "text/plain": [
       "\u001b[1m Trainable params: \u001b[0m\u001b[38;5;34m36\u001b[0m (144.00 B)\n"
      ]
     },
     "metadata": {},
     "output_type": "display_data"
    },
    {
     "data": {
      "text/html": [
       "<pre style=\"white-space:pre;overflow-x:auto;line-height:normal;font-family:Menlo,'DejaVu Sans Mono',consolas,'Courier New',monospace\"><span style=\"font-weight: bold\"> Non-trainable params: </span><span style=\"color: #00af00; text-decoration-color: #00af00\">0</span> (0.00 B)\n",
       "</pre>\n"
      ],
      "text/plain": [
       "\u001b[1m Non-trainable params: \u001b[0m\u001b[38;5;34m0\u001b[0m (0.00 B)\n"
      ]
     },
     "metadata": {},
     "output_type": "display_data"
    }
   ],
   "source": [
    "vocab_size = len(tokenizer.word_index) + 1  # Always add +1 for padding and max index\n",
    "\n",
    "model = Sequential()\n",
    "model.add(Embedding(input_dim=vocab_size, output_dim=2, input_length=5))\n",
    "model.build(input_shape=(None, None))\n",
    "\n",
    "model.summary()\n"
   ]
  },
  {
   "cell_type": "code",
   "execution_count": 10,
   "id": "21ba2c4c",
   "metadata": {},
   "outputs": [],
   "source": [
    "model.compile('adam','accuracy')"
   ]
  },
  {
   "cell_type": "code",
   "execution_count": 11,
   "id": "5b41a34e",
   "metadata": {},
   "outputs": [
    {
     "name": "stdout",
     "output_type": "stream",
     "text": [
      "\u001b[1m1/1\u001b[0m \u001b[32m━━━━━━━━━━━━━━━━━━━━\u001b[0m\u001b[37m\u001b[0m \u001b[1m0s\u001b[0m 52ms/step\n",
      "[[[ 0.01750934 -0.04452626]\n",
      "  [-0.01511288  0.03661117]\n",
      "  [-0.02014173  0.00231097]\n",
      "  [-0.02014173  0.00231097]\n",
      "  [-0.02014173  0.00231097]]\n",
      "\n",
      " [[-0.01511288  0.03661117]\n",
      "  [-0.01511288  0.03661117]\n",
      "  [-0.02014173  0.00231097]\n",
      "  [-0.02014173  0.00231097]\n",
      "  [-0.02014173  0.00231097]]\n",
      "\n",
      " [[ 0.03400047 -0.02399817]\n",
      "  [ 0.03400047 -0.02399817]\n",
      "  [ 0.01697422  0.04676353]\n",
      "  [-0.02014173  0.00231097]\n",
      "  [-0.02014173  0.00231097]]\n",
      "\n",
      " [[ 0.003887   -0.01559261]\n",
      "  [ 0.00287892 -0.0496293 ]\n",
      "  [ 0.003887   -0.01559261]\n",
      "  [-0.01511288  0.03661117]\n",
      "  [ 0.003887   -0.01559261]]\n",
      "\n",
      " [[ 0.01966926 -0.00163038]\n",
      "  [ 0.00422265  0.03823842]\n",
      "  [ 0.0396719  -0.01901975]\n",
      "  [-0.02461314  0.00030073]\n",
      "  [-0.02014173  0.00231097]]\n",
      "\n",
      " [[ 0.0339953  -0.0208692 ]\n",
      "  [ 0.0339953  -0.0208692 ]\n",
      "  [-0.02014173  0.00231097]\n",
      "  [-0.02014173  0.00231097]\n",
      "  [-0.02014173  0.00231097]]\n",
      "\n",
      " [[ 0.02643801 -0.01606764]\n",
      "  [ 0.02643801 -0.01606764]\n",
      "  [-0.02014173  0.00231097]\n",
      "  [-0.02014173  0.00231097]\n",
      "  [-0.02014173  0.00231097]]\n",
      "\n",
      " [[-0.04654256 -0.01521586]\n",
      "  [-0.04654256 -0.01521586]\n",
      "  [-0.02014173  0.00231097]\n",
      "  [-0.02014173  0.00231097]\n",
      "  [-0.02014173  0.00231097]]\n",
      "\n",
      " [[-0.03747924  0.02414927]\n",
      "  [ 0.03459765  0.00825657]\n",
      "  [ 0.0396719  -0.01901975]\n",
      "  [-0.02461314  0.00030073]\n",
      "  [-0.02014173  0.00231097]]\n",
      "\n",
      " [[ 0.03554526  0.01547832]\n",
      "  [-0.01082114  0.04516262]\n",
      "  [-0.02014173  0.00231097]\n",
      "  [-0.02014173  0.00231097]\n",
      "  [-0.02014173  0.00231097]]]\n"
     ]
    }
   ],
   "source": [
    "pred=model.predict(sequences)\n",
    "print(pred)"
   ]
  },
  {
   "cell_type": "code",
   "execution_count": 12,
   "id": "cbd98032",
   "metadata": {},
   "outputs": [],
   "source": [
    "from keras.datasets import imdb\n",
    "# from keras.preprocessing import Tokenizer\n",
    "from keras.utils import pad_sequences\n",
    "from keras import Sequential\n",
    "from keras.layers import Embedding, Dense, SimpleRNN,Flatten"
   ]
  },
  {
   "cell_type": "code",
   "execution_count": 13,
   "id": "7dd5da1d",
   "metadata": {},
   "outputs": [],
   "source": [
    "num_words=10000\n",
    "(X_train,y_train),(X_test,y_test)=imdb.load_data(num_words=num_words)"
   ]
  },
  {
   "cell_type": "code",
   "execution_count": 14,
   "id": "bfb8f8e2",
   "metadata": {},
   "outputs": [
    {
     "data": {
      "text/plain": [
       "(25000, 100)"
      ]
     },
     "execution_count": 14,
     "metadata": {},
     "output_type": "execute_result"
    }
   ],
   "source": [
    "maxlen=100\n",
    "X_train=pad_sequences(X_train,maxlen=maxlen,padding='post',truncating='post')\n",
    "X_test=pad_sequences(X_test,maxlen=maxlen,padding='post',truncating='post')\n",
    "\n",
    "X_test.shape"
   ]
  },
  {
   "cell_type": "code",
   "execution_count": 15,
   "id": "b53b98c3",
   "metadata": {},
   "outputs": [
    {
     "data": {
      "text/plain": [
       "(25000, 100)"
      ]
     },
     "execution_count": 15,
     "metadata": {},
     "output_type": "execute_result"
    }
   ],
   "source": [
    "X_train.shape"
   ]
  },
  {
   "cell_type": "code",
   "execution_count": 16,
   "id": "d2d53dbc",
   "metadata": {},
   "outputs": [
    {
     "data": {
      "text/plain": [
       "(25000,)"
      ]
     },
     "execution_count": 16,
     "metadata": {},
     "output_type": "execute_result"
    }
   ],
   "source": [
    "y_test.shape"
   ]
  },
  {
   "cell_type": "code",
   "execution_count": 17,
   "id": "11b4ef42",
   "metadata": {},
   "outputs": [],
   "source": [
    "vocab_size = 10000  # As per num_words given"
   ]
  },
  {
   "cell_type": "code",
   "execution_count": 18,
   "id": "fd36d9d8",
   "metadata": {},
   "outputs": [
    {
     "ename": "NameError",
     "evalue": "name 'max_len' is not defined",
     "output_type": "error",
     "traceback": [
      "\u001b[1;31m---------------------------------------------------------------------------\u001b[0m",
      "\u001b[1;31mNameError\u001b[0m                                 Traceback (most recent call last)",
      "Cell \u001b[1;32mIn[18], line 3\u001b[0m\n\u001b[0;32m      1\u001b[0m model\u001b[38;5;241m=\u001b[39mSequential()\n\u001b[1;32m----> 3\u001b[0m model\u001b[38;5;241m.\u001b[39madd(Embedding(input_dim\u001b[38;5;241m=\u001b[39m\u001b[38;5;241m10000\u001b[39m, output_dim\u001b[38;5;241m=\u001b[39m\u001b[38;5;241m128\u001b[39m, input_length\u001b[38;5;241m=\u001b[39m\u001b[43mmax_len\u001b[49m))\n\u001b[0;32m      4\u001b[0m model\u001b[38;5;241m.\u001b[39madd(SimpleRNN(\u001b[38;5;241m32\u001b[39m, return_sequences\u001b[38;5;241m=\u001b[39m\u001b[38;5;28;01mFalse\u001b[39;00m))\n\u001b[0;32m      5\u001b[0m model\u001b[38;5;241m.\u001b[39madd(Dense(\u001b[38;5;241m1\u001b[39m, activation\u001b[38;5;241m=\u001b[39m\u001b[38;5;124m'\u001b[39m\u001b[38;5;124msigmoid\u001b[39m\u001b[38;5;124m'\u001b[39m))\n",
      "\u001b[1;31mNameError\u001b[0m: name 'max_len' is not defined"
     ]
    }
   ],
   "source": [
    "model=Sequential()\n",
    "\n",
    "model.add(Embedding(input_dim=10000, output_dim=128, input_length=max_len))\n",
    "model.add(SimpleRNN(32, return_sequences=False))\n",
    "model.add(Dense(1, activation='sigmoid'))\n",
    "model.build(input_shape=(None, 50))\n",
    "\n",
    "model.summary()"
   ]
  },
  {
   "cell_type": "code",
   "execution_count": null,
   "id": "0a6d612f",
   "metadata": {},
   "outputs": [],
   "source": [
    "model.compile(optimizer='adam',loss='binary_crossentropy',metrics=['accuracy'])"
   ]
  },
  {
   "cell_type": "code",
   "execution_count": null,
   "id": "10a3aa36",
   "metadata": {},
   "outputs": [
    {
     "name": "stdout",
     "output_type": "stream",
     "text": [
      "Epoch 1/5\n",
      "\u001b[1m782/782\u001b[0m \u001b[32m━━━━━━━━━━━━━━━━━━━━\u001b[0m\u001b[37m\u001b[0m \u001b[1m9s\u001b[0m 10ms/step - accuracy: 0.5083 - loss: 0.6937 - val_accuracy: 0.5286 - val_loss: 0.6910\n",
      "Epoch 2/5\n",
      "\u001b[1m782/782\u001b[0m \u001b[32m━━━━━━━━━━━━━━━━━━━━\u001b[0m\u001b[37m\u001b[0m \u001b[1m8s\u001b[0m 10ms/step - accuracy: 0.6871 - loss: 0.5938 - val_accuracy: 0.6826 - val_loss: 0.6266\n",
      "Epoch 3/5\n",
      "\u001b[1m782/782\u001b[0m \u001b[32m━━━━━━━━━━━━━━━━━━━━\u001b[0m\u001b[37m\u001b[0m \u001b[1m8s\u001b[0m 10ms/step - accuracy: 0.8770 - loss: 0.2986 - val_accuracy: 0.5832 - val_loss: 0.8927\n",
      "Epoch 4/5\n",
      "\u001b[1m782/782\u001b[0m \u001b[32m━━━━━━━━━━━━━━━━━━━━\u001b[0m\u001b[37m\u001b[0m \u001b[1m8s\u001b[0m 10ms/step - accuracy: 0.9319 - loss: 0.1513 - val_accuracy: 0.5529 - val_loss: 1.2272\n",
      "Epoch 5/5\n",
      "\u001b[1m782/782\u001b[0m \u001b[32m━━━━━━━━━━━━━━━━━━━━\u001b[0m\u001b[37m\u001b[0m \u001b[1m8s\u001b[0m 10ms/step - accuracy: 0.9518 - loss: 0.0985 - val_accuracy: 0.6000 - val_loss: 1.2748\n"
     ]
    },
    {
     "data": {
      "text/plain": [
       "<keras.src.callbacks.history.History at 0x27f46eea920>"
      ]
     },
     "execution_count": 62,
     "metadata": {},
     "output_type": "execute_result"
    }
   ],
   "source": [
    "model.fit(X_train, y_train, epochs=5, batch_size=32, validation_data=(X_test, y_test))"
   ]
  }
 ],
 "metadata": {
  "kernelspec": {
   "display_name": ".machine (3.10.11)",
   "language": "python",
   "name": "python3"
  },
  "language_info": {
   "codemirror_mode": {
    "name": "ipython",
    "version": 3
   },
   "file_extension": ".py",
   "mimetype": "text/x-python",
   "name": "python",
   "nbconvert_exporter": "python",
   "pygments_lexer": "ipython3",
   "version": "3.10.11"
  }
 },
 "nbformat": 4,
 "nbformat_minor": 5
}
