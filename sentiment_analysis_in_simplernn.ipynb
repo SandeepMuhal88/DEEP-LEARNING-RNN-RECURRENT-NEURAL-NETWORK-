{
 "cells": [
  {
   "cell_type": "code",
   "execution_count": 15,
   "id": "c7de55c2",
   "metadata": {},
   "outputs": [],
   "source": [
    "from keras.models import Sequential\n",
    "from keras.layers import Dense, SimpleRNN, Embedding, Flatten"
   ]
  },
  {
   "cell_type": "code",
   "execution_count": 16,
   "id": "feeb90f9",
   "metadata": {},
   "outputs": [],
   "source": [
    "docs = ['go india',\n",
    "\t\t'india india',\n",
    "\t\t'hip hip hurray',\n",
    "\t\t'jeetega bhai jeetega india jeetega',\n",
    "\t\t'bharat mata ki jai',\n",
    "\t\t'kohli kohli',\n",
    "\t\t'sachin sachin',\n",
    "\t\t'dhoni dhoni',\n",
    "\t\t'modi ji ki jai',\n",
    "\t\t'inquilab zindabad']"
   ]
  },
  {
   "cell_type": "code",
   "execution_count": 17,
   "id": "f4252d36",
   "metadata": {},
   "outputs": [],
   "source": [
    "# imo\n",
    "from tensorflow.keras.preprocessing.text import Tokenizer\n",
    "tokenizer = Tokenizer()"
   ]
  },
  {
   "cell_type": "code",
   "execution_count": 18,
   "id": "1a01fe3d",
   "metadata": {},
   "outputs": [],
   "source": [
    "tokenizer.fit_on_texts(docs)"
   ]
  },
  {
   "cell_type": "code",
   "execution_count": 19,
   "id": "6d1a36a1",
   "metadata": {},
   "outputs": [],
   "source": [
    "vocab_size=len(tokenizer.word_index)+1"
   ]
  },
  {
   "cell_type": "code",
   "execution_count": 20,
   "id": "f397c847",
   "metadata": {},
   "outputs": [
    {
     "data": {
      "text/plain": [
       "[[9, 1],\n",
       " [1, 1],\n",
       " [3, 3, 10],\n",
       " [2, 11, 2, 1, 2],\n",
       " [12, 13, 4, 5],\n",
       " [6, 6],\n",
       " [7, 7],\n",
       " [8, 8],\n",
       " [14, 15, 4, 5],\n",
       " [16, 17]]"
      ]
     },
     "execution_count": 20,
     "metadata": {},
     "output_type": "execute_result"
    }
   ],
   "source": [
    "Sequences=tokenizer.texts_to_sequences(docs)\n",
    "Sequences"
   ]
  },
  {
   "cell_type": "code",
   "execution_count": 21,
   "id": "14f76f2d",
   "metadata": {},
   "outputs": [
    {
     "data": {
      "text/plain": [
       "10"
      ]
     },
     "execution_count": 21,
     "metadata": {},
     "output_type": "execute_result"
    }
   ],
   "source": [
    "len(Sequences)"
   ]
  },
  {
   "cell_type": "code",
   "execution_count": 22,
   "id": "bfc72eb0",
   "metadata": {},
   "outputs": [
    {
     "data": {
      "text/plain": [
       "array([[ 9,  1,  0,  0,  0],\n",
       "       [ 1,  1,  0,  0,  0],\n",
       "       [ 3,  3, 10,  0,  0],\n",
       "       [ 2, 11,  2,  1,  2],\n",
       "       [12, 13,  4,  5,  0],\n",
       "       [ 6,  6,  0,  0,  0],\n",
       "       [ 7,  7,  0,  0,  0],\n",
       "       [ 8,  8,  0,  0,  0],\n",
       "       [14, 15,  4,  5,  0],\n",
       "       [16, 17,  0,  0,  0]], dtype=int32)"
      ]
     },
     "execution_count": 22,
     "metadata": {},
     "output_type": "execute_result"
    }
   ],
   "source": [
    "from keras.utils import pad_sequences\n",
    "sequences=pad_sequences(Sequences,padding='post')\n",
    "sequences\n"
   ]
  },
  {
   "cell_type": "code",
   "execution_count": 35,
   "id": "69767506",
   "metadata": {},
   "outputs": [
    {
     "name": "stderr",
     "output_type": "stream",
     "text": [
      "d:\\Project-to-learn\\Whatsapp-chat-Analysis-system\\.tensorli\\Lib\\site-packages\\keras\\src\\layers\\core\\embedding.py:97: UserWarning: Argument `input_length` is deprecated. Just remove it.\n",
      "  warnings.warn(\n"
     ]
    },
    {
     "data": {
      "text/html": [
       "<pre style=\"white-space:pre;overflow-x:auto;line-height:normal;font-family:Menlo,'DejaVu Sans Mono',consolas,'Courier New',monospace\"><span style=\"font-weight: bold\">Model: \"sequential_7\"</span>\n",
       "</pre>\n"
      ],
      "text/plain": [
       "\u001b[1mModel: \"sequential_7\"\u001b[0m\n"
      ]
     },
     "metadata": {},
     "output_type": "display_data"
    },
    {
     "data": {
      "text/html": [
       "<pre style=\"white-space:pre;overflow-x:auto;line-height:normal;font-family:Menlo,'DejaVu Sans Mono',consolas,'Courier New',monospace\">┏━━━━━━━━━━━━━━━━━━━━━━━━━━━━━━━━━┳━━━━━━━━━━━━━━━━━━━━━━━━┳━━━━━━━━━━━━━━━┓\n",
       "┃<span style=\"font-weight: bold\"> Layer (type)                    </span>┃<span style=\"font-weight: bold\"> Output Shape           </span>┃<span style=\"font-weight: bold\">       Param # </span>┃\n",
       "┡━━━━━━━━━━━━━━━━━━━━━━━━━━━━━━━━━╇━━━━━━━━━━━━━━━━━━━━━━━━╇━━━━━━━━━━━━━━━┩\n",
       "│ embedding_7 (<span style=\"color: #0087ff; text-decoration-color: #0087ff\">Embedding</span>)         │ (<span style=\"color: #00d7ff; text-decoration-color: #00d7ff\">None</span>, <span style=\"color: #00af00; text-decoration-color: #00af00\">5</span>, <span style=\"color: #00af00; text-decoration-color: #00af00\">2</span>)           │            <span style=\"color: #00af00; text-decoration-color: #00af00\">36</span> │\n",
       "└─────────────────────────────────┴────────────────────────┴───────────────┘\n",
       "</pre>\n"
      ],
      "text/plain": [
       "┏━━━━━━━━━━━━━━━━━━━━━━━━━━━━━━━━━┳━━━━━━━━━━━━━━━━━━━━━━━━┳━━━━━━━━━━━━━━━┓\n",
       "┃\u001b[1m \u001b[0m\u001b[1mLayer (type)                   \u001b[0m\u001b[1m \u001b[0m┃\u001b[1m \u001b[0m\u001b[1mOutput Shape          \u001b[0m\u001b[1m \u001b[0m┃\u001b[1m \u001b[0m\u001b[1m      Param #\u001b[0m\u001b[1m \u001b[0m┃\n",
       "┡━━━━━━━━━━━━━━━━━━━━━━━━━━━━━━━━━╇━━━━━━━━━━━━━━━━━━━━━━━━╇━━━━━━━━━━━━━━━┩\n",
       "│ embedding_7 (\u001b[38;5;33mEmbedding\u001b[0m)         │ (\u001b[38;5;45mNone\u001b[0m, \u001b[38;5;34m5\u001b[0m, \u001b[38;5;34m2\u001b[0m)           │            \u001b[38;5;34m36\u001b[0m │\n",
       "└─────────────────────────────────┴────────────────────────┴───────────────┘\n"
      ]
     },
     "metadata": {},
     "output_type": "display_data"
    },
    {
     "data": {
      "text/html": [
       "<pre style=\"white-space:pre;overflow-x:auto;line-height:normal;font-family:Menlo,'DejaVu Sans Mono',consolas,'Courier New',monospace\"><span style=\"font-weight: bold\"> Total params: </span><span style=\"color: #00af00; text-decoration-color: #00af00\">36</span> (144.00 B)\n",
       "</pre>\n"
      ],
      "text/plain": [
       "\u001b[1m Total params: \u001b[0m\u001b[38;5;34m36\u001b[0m (144.00 B)\n"
      ]
     },
     "metadata": {},
     "output_type": "display_data"
    },
    {
     "data": {
      "text/html": [
       "<pre style=\"white-space:pre;overflow-x:auto;line-height:normal;font-family:Menlo,'DejaVu Sans Mono',consolas,'Courier New',monospace\"><span style=\"font-weight: bold\"> Trainable params: </span><span style=\"color: #00af00; text-decoration-color: #00af00\">36</span> (144.00 B)\n",
       "</pre>\n"
      ],
      "text/plain": [
       "\u001b[1m Trainable params: \u001b[0m\u001b[38;5;34m36\u001b[0m (144.00 B)\n"
      ]
     },
     "metadata": {},
     "output_type": "display_data"
    },
    {
     "data": {
      "text/html": [
       "<pre style=\"white-space:pre;overflow-x:auto;line-height:normal;font-family:Menlo,'DejaVu Sans Mono',consolas,'Courier New',monospace\"><span style=\"font-weight: bold\"> Non-trainable params: </span><span style=\"color: #00af00; text-decoration-color: #00af00\">0</span> (0.00 B)\n",
       "</pre>\n"
      ],
      "text/plain": [
       "\u001b[1m Non-trainable params: \u001b[0m\u001b[38;5;34m0\u001b[0m (0.00 B)\n"
      ]
     },
     "metadata": {},
     "output_type": "display_data"
    }
   ],
   "source": [
    "vocab_size = len(tokenizer.word_index) + 1  # Always add +1 for padding and max index\n",
    "\n",
    "model = Sequential()\n",
    "model.add(Embedding(input_dim=vocab_size, output_dim=2, input_length=5))\n",
    "model.build(input_shape=(None, 5))\n",
    "\n",
    "model.summary()\n"
   ]
  },
  {
   "cell_type": "code",
   "execution_count": 36,
   "id": "21ba2c4c",
   "metadata": {},
   "outputs": [],
   "source": [
    "model.compile('adam','accuracy')"
   ]
  },
  {
   "cell_type": "code",
   "execution_count": 38,
   "id": "5b41a34e",
   "metadata": {},
   "outputs": [
    {
     "name": "stdout",
     "output_type": "stream",
     "text": [
      "\u001b[1m1/1\u001b[0m \u001b[32m━━━━━━━━━━━━━━━━━━━━\u001b[0m\u001b[37m\u001b[0m \u001b[1m0s\u001b[0m 30ms/step\n",
      "[[[ 2.61275843e-03 -1.76019594e-03]\n",
      "  [-4.29450348e-03 -3.77198830e-02]\n",
      "  [ 3.87462042e-02  3.65875475e-02]\n",
      "  [ 3.87462042e-02  3.65875475e-02]\n",
      "  [ 3.87462042e-02  3.65875475e-02]]\n",
      "\n",
      " [[-4.29450348e-03 -3.77198830e-02]\n",
      "  [-4.29450348e-03 -3.77198830e-02]\n",
      "  [ 3.87462042e-02  3.65875475e-02]\n",
      "  [ 3.87462042e-02  3.65875475e-02]\n",
      "  [ 3.87462042e-02  3.65875475e-02]]\n",
      "\n",
      " [[ 4.65686247e-03  3.96739505e-02]\n",
      "  [ 4.65686247e-03  3.96739505e-02]\n",
      "  [-1.12949722e-02 -2.12244280e-02]\n",
      "  [ 3.87462042e-02  3.65875475e-02]\n",
      "  [ 3.87462042e-02  3.65875475e-02]]\n",
      "\n",
      " [[ 3.95139307e-03  2.43059658e-02]\n",
      "  [ 2.70430706e-02  4.15385254e-02]\n",
      "  [ 3.95139307e-03  2.43059658e-02]\n",
      "  [-4.29450348e-03 -3.77198830e-02]\n",
      "  [ 3.95139307e-03  2.43059658e-02]]\n",
      "\n",
      " [[ 1.25491135e-02 -7.21027702e-03]\n",
      "  [-2.60066520e-02 -3.97940390e-02]\n",
      "  [ 1.92299485e-05  8.35641474e-03]\n",
      "  [ 4.19994257e-02 -1.13455169e-02]\n",
      "  [ 3.87462042e-02  3.65875475e-02]]\n",
      "\n",
      " [[ 4.41261418e-02  4.71466891e-02]\n",
      "  [ 4.41261418e-02  4.71466891e-02]\n",
      "  [ 3.87462042e-02  3.65875475e-02]\n",
      "  [ 3.87462042e-02  3.65875475e-02]\n",
      "  [ 3.87462042e-02  3.65875475e-02]]\n",
      "\n",
      " [[ 2.27493756e-02 -3.11788451e-02]\n",
      "  [ 2.27493756e-02 -3.11788451e-02]\n",
      "  [ 3.87462042e-02  3.65875475e-02]\n",
      "  [ 3.87462042e-02  3.65875475e-02]\n",
      "  [ 3.87462042e-02  3.65875475e-02]]\n",
      "\n",
      " [[ 4.00235765e-02  2.23588198e-04]\n",
      "  [ 4.00235765e-02  2.23588198e-04]\n",
      "  [ 3.87462042e-02  3.65875475e-02]\n",
      "  [ 3.87462042e-02  3.65875475e-02]\n",
      "  [ 3.87462042e-02  3.65875475e-02]]\n",
      "\n",
      " [[ 4.62576039e-02  1.41970553e-02]\n",
      "  [ 3.25450636e-02 -1.42324343e-02]\n",
      "  [ 1.92299485e-05  8.35641474e-03]\n",
      "  [ 4.19994257e-02 -1.13455169e-02]\n",
      "  [ 3.87462042e-02  3.65875475e-02]]\n",
      "\n",
      " [[-1.71035528e-03  4.24344428e-02]\n",
      "  [-2.42472179e-02 -4.90182899e-02]\n",
      "  [ 3.87462042e-02  3.65875475e-02]\n",
      "  [ 3.87462042e-02  3.65875475e-02]\n",
      "  [ 3.87462042e-02  3.65875475e-02]]]\n"
     ]
    }
   ],
   "source": [
    "pred=model.predict(sequences)\n",
    "print(pred)"
   ]
  }
 ],
 "metadata": {
  "kernelspec": {
   "display_name": ".tensorli",
   "language": "python",
   "name": "python3"
  },
  "language_info": {
   "codemirror_mode": {
    "name": "ipython",
    "version": 3
   },
   "file_extension": ".py",
   "mimetype": "text/x-python",
   "name": "python",
   "nbconvert_exporter": "python",
   "pygments_lexer": "ipython3",
   "version": "3.11.0"
  }
 },
 "nbformat": 4,
 "nbformat_minor": 5
}
